{
  "cells": [
    {
      "cell_type": "markdown",
      "metadata": {
        "id": "bRcn_0DKmFSN"
      },
      "source": [
        "# Fine Tuning Transformers for identification of Human Values behind Arguments"
      ]
    },
    {
      "cell_type": "markdown",
      "metadata": {
        "id": "2607wHvlBE7a"
      },
      "source": [
        "### Introduction\n",
        "\n",
        "In this notebook we will be fine tuning different transformer models\n",
        "for the **detection of human values** given a specifc argument. It consists of a **Multilabel text classification** problem where a given piece of text needs to be classified into one or more categories out of the given list. For example, as in this case, a given argument can be categorized into 1 or more human values.\n",
        "\n",
        "#### Flow of the notebook\n",
        "\n",
        "The notebook will be divided into seperate sections to provide a organized walk through for the process used. The sections are:\n",
        "\n",
        "1. [Importing Python Libraries and preparing the environment](#section01)\n",
        "2. [Importing and Pre-Processing the domain data](#section02)\n",
        "3. [Preparing the Dataset and Dataloader](#section03)\n",
        "4. [Creating the Neural Network for Fine Tuning](#section04)\n",
        "5. [Fine Tuning the Model](#section05)\n",
        "6. [Validating the Model Performance](#section06)\n",
        "7. [Evaluating the best model](#section07)\n",
        "8. [Choosing the best threshold](#section08)\n",
        "9. [Results](#section09)\n",
        "\n",
        "#### Technical Details\n",
        "\n",
        " - Data: \n",
        "\t - We are using the data available on [Zenodo](https://zenodo.org/record/7550385#.Y8wMquzMK3I)\n",
        "     - [Human Value Detection 2023](https://touche.webis.de/semeval23/touche23-web/index.html) is the competion which provide the souce dataset\n",
        "\t - We are referring only to the following data: `arguments-training.tsv`, `arguments-validation`, `labels-training.tsv`, `labels-validation.tsv`\n",
        "\t \n",
        "     - `arguments-<split>.tsv`: Each row corresponds to one argument\n",
        "        - `Argument ID`: The unique identifier for the argument\n",
        "        - `Conclusion`: Conclusion text of the argument\n",
        "        - `Stance`: Stance of the Premise towards the Conclusion; one of \"in favor of\", \"against\"\n",
        "        - `Premise`: Premise text of the argument\n",
        "\n",
        "     - `labels-<split>.tsv`: Each row corresponds to one argument\n",
        "        - `Argument ID`: The unique identifier for the argument\n",
        "        - `Other`: Each other column corresponds to one value category, with a 1 meaning that the argument resorts to the value category and a 0 that not\n",
        "---\n",
        "***NOTE***\n",
        "- *Since test data are provided without labels, we did not consider them for our analysis. In this regards **the performances of our models have been tested only on validation data**.*\n",
        "---\n",
        "  \n",
        " - Language Model Used:\n",
        "\t - BERT BASE\n",
        "     - BERT LARGE\n",
        "     - ROBERTA BASE\n",
        "     - ROBERTA LARGE\n",
        "     - DISTILBERT\n",
        "---\n",
        "***NOTE***\n",
        "\n",
        "- Auto Models\n",
        "    - As explained by [Hugging Face doc](https://huggingface.co/transformers/v3.0.2/model_doc/auto.html), in many cases, the architecture we want to use can be guessed from the name or the path of the pretrained model we are supplying to the `from_pretrained` method.\n",
        "    AutoClasses are here to do this job for us so that we automatically retrieve the relevant model given the name/path to the pretrained weights/config/vocabulary:\n",
        "        - Instantiating one of `AutoModel` and `AutoTokenizer` will directly create a class of the relevant architecture \n",
        "(ex: model = AutoModel.from_pretrained('bert-base-cased') will create a instance of BertModel).\n",
        "---\n",
        "\n",
        " - Hardware Requirements:\n",
        "\t - Python 3.6 and above\n",
        "\t - Pytorch, Transformers and All the stock Python ML Libraries\n",
        "\t - GPU enabled setup \n",
        "\n",
        "\n",
        " - Script Objective:\n",
        "\t - Fine tuning of different transformer models such that: given a textual argument, classify whether or not the argument draws on one of the following categories:\n",
        "        * Self-direction: thought      \n",
        "        * Self-direction: action       \n",
        "        * Stimulation     \n",
        "        * Hedonism       \n",
        "        * Achievement      \n",
        "        * Power: dominance       \n",
        "        * Power: resources       \n",
        "        * Face       \n",
        "        * Security: personal      \n",
        "        * Security: societal      \n",
        "        * Tradition       \n",
        "        * Conformity: rules       \n",
        "        * Conformity: interpersonal       \n",
        "        * Humility       \n",
        "        * Benevolence: caring       \n",
        "        * Benevolence: dependability      \n",
        "        * Universalism: concern       \n",
        "        * Universalism: nature       \n",
        "        * Universalism: tolerance      \n",
        "        * Universalism: objectivity       \n",
        "\n",
        "---\n",
        "***NOTE***\n",
        "- *It is to be noted that the overall mechanisms for a multiclass and multilabel problems are similar, except for few differences namely:*\n",
        "\t- *Loss function is designed to evaluate all the probability of categories individually rather than as compared to other categories. Hence the use of `BCE` rather than `Cross Entropy` when defining loss.*\n",
        "\t- *Sigmoid of the outputs calcuated to rather than Softmax. Again for the reasons defined in the previous point*\n",
        "\t- *The [accuracy metrics](https://scikit-learn.org/stable/modules/generated/sklearn.metrics.accuracy_score.html) and [F1 scores](https://scikit-learn.org/stable/modules/generated/sklearn.metrics.f1_score.html#sklearn.metrics.f1_score) used from sklearn package as compared to direct comparison of expected vs predicted*\n",
        "---"
      ]
    },
    {
      "cell_type": "markdown",
      "metadata": {
        "id": "A71JDmR2NbKv"
      },
      "source": [
        "<a id='section01'></a>\n",
        "### Importing Python Libraries and preparing the environment\n",
        "\n",
        "At this step we will be importing the libraries and modules needed to run our script. Libraries are:\n",
        "* Numpy\n",
        "* Pandas\n",
        "* Pytorch\n",
        "* Pytorch Utils for Dataset and Dataloader\n",
        "* Transformers\n",
        "* AutoModel and AutoTokenizer\n",
        "\n",
        "Followed by that we will preapre the device for GPU execeution. This configuration is needed if you want to leverage on onboard GPU.\n",
        "\n",
        "RANDOM SEED has been set to 42 to ensure experiments reproducibility."
      ]
    },
    {
      "cell_type": "code",
      "execution_count": 204,
      "metadata": {
        "colab": {
          "base_uri": "https://localhost:8080/"
        },
        "id": "WD_vnyLXZQzD",
        "outputId": "a62bbb6f-b9a0-4d77-f0fc-87937efb6537"
      },
      "outputs": [
        {
          "output_type": "stream",
          "name": "stdout",
          "text": [
            "Looking in indexes: https://pypi.org/simple, https://us-python.pkg.dev/colab-wheels/public/simple/\n",
            "Requirement already satisfied: mlcm in /usr/local/lib/python3.8/dist-packages (0.0.1)\n",
            "Requirement already satisfied: numpy in /usr/local/lib/python3.8/dist-packages (from mlcm) (1.21.6)\n"
          ]
        }
      ],
      "source": [
        "# Installing the transformers library and additional libraries if looking process \n",
        "!pip install -q transformers\n",
        "!pip install mlcm"
      ]
    },
    {
      "cell_type": "code",
      "execution_count": 206,
      "metadata": {
        "id": "pzM1_ykHaFur"
      },
      "outputs": [],
      "source": [
        "# Importing stock ml libraries\n",
        "import numpy as np\n",
        "import pandas as pd\n",
        "from sklearn import metrics\n",
        "import transformers\n",
        "import torch\n",
        "from torch.utils.data import Dataset, DataLoader, RandomSampler, SequentialSampler\n",
        "from transformers import AutoModel, AutoTokenizer, get_linear_schedule_with_warmup\n",
        "from sklearn.metrics import classification_report, accuracy_score, f1_score"
      ]
    },
    {
      "cell_type": "code",
      "execution_count": 207,
      "metadata": {
        "colab": {
          "base_uri": "https://localhost:8080/"
        },
        "id": "YLIVC5sCIC39",
        "outputId": "1e29b7a6-002d-43cc-a723-4639b48461b4"
      },
      "outputs": [
        {
          "output_type": "stream",
          "name": "stdout",
          "text": [
            "Drive already mounted at /content/drive; to attempt to forcibly remount, call drive.mount(\"/content/drive\", force_remount=True).\n"
          ]
        }
      ],
      "source": [
        "from google.colab import drive\n",
        "drive.mount('/content/drive')"
      ]
    },
    {
      "cell_type": "code",
      "execution_count": 209,
      "metadata": {
        "id": "qAU42Itr7vP1"
      },
      "outputs": [],
      "source": [
        "# Random seed to repeat experiments.\n",
        "RANDOM_SEED = 42\n",
        "transformers.set_seed(RANDOM_SEED)"
      ]
    },
    {
      "cell_type": "code",
      "execution_count": 210,
      "metadata": {
        "colab": {
          "base_uri": "https://localhost:8080/"
        },
        "id": "NLxxwd1scQNv",
        "outputId": "5245d345-e0df-4355-ab73-2189cfe678b1"
      },
      "outputs": [
        {
          "output_type": "stream",
          "name": "stdout",
          "text": [
            "Using cuda.\n"
          ]
        }
      ],
      "source": [
        "# # Setting up the device for GPU usage\n",
        "from torch import cuda\n",
        "device = 'cuda' if cuda.is_available() else 'cpu'\n",
        "print(f'Using {device}.')"
      ]
    },
    {
      "cell_type": "markdown",
      "metadata": {
        "id": "7HvSHQjiOlD8"
      },
      "source": [
        "<a id='section02'></a>\n",
        "### Importing and Pre-Processing the domain data\n",
        "\n",
        "We will be working with the data and preparing for fine tuning purposes, *assuming that the `arguments-train.tsv`, `labels-train.tsv`, `arguments-validation.tsv`, `labels-validation.tsv` are already downloaded and saved in our `data` folder*\n",
        "\n",
        "* Import files in different dataframes\n",
        "* Merge arguments and labels dataframe of each corresponding split \n",
        "* Taking the values of all the categories and coverting it into a list.\n",
        "* The list is appened as a new column and other columns are removed"
      ]
    },
    {
      "cell_type": "code",
      "execution_count": 211,
      "metadata": {
        "id": "mZ7lTlkyaG7u"
      },
      "outputs": [],
      "source": [
        "args_train = pd.read_csv(\"arguments-training.tsv\", delimiter='\\t')\n",
        "labels_train = pd.read_csv(\"labels-training.tsv\", delimiter='\\t')"
      ]
    },
    {
      "cell_type": "markdown",
      "metadata": {
        "id": "ADtHUn7eOeIk"
      },
      "source": [
        "We now prepare our training DataFrame. The choice of concatenation of conclusion, stance and premise attempts to enhance the process of applying attention, in order to perform better at capturing relationships between words using transformers."
      ]
    },
    {
      "cell_type": "code",
      "execution_count": 212,
      "metadata": {
        "colab": {
          "base_uri": "https://localhost:8080/",
          "height": 206
        },
        "id": "o8vQuBfEuBiE",
        "outputId": "737561cc-a656-4007-9e51-e2b771c2c468"
      },
      "outputs": [
        {
          "output_type": "execute_result",
          "data": {
            "text/plain": [
              "                                                text  \\\n",
              "0  We should ban human cloning in favor of we sho...   \n",
              "1  We should ban fast food in favor of fast food ...   \n",
              "2  We should end the use of economic sanctions ag...   \n",
              "3  We should abolish capital punishment against c...   \n",
              "4  We should ban factory farming against factory ...   \n",
              "\n",
              "                                                list  \n",
              "0  [0, 0, 0, 0, 0, 0, 0, 0, 0, 1, 0, 0, 0, 0, 0, ...  \n",
              "1  [0, 0, 0, 0, 0, 0, 0, 0, 1, 0, 0, 0, 0, 0, 0, ...  \n",
              "2  [0, 0, 0, 0, 0, 1, 0, 0, 0, 1, 0, 0, 0, 0, 0, ...  \n",
              "3  [0, 0, 0, 0, 0, 0, 0, 0, 0, 1, 0, 1, 0, 0, 0, ...  \n",
              "4  [0, 0, 0, 0, 0, 0, 0, 0, 1, 0, 0, 0, 0, 0, 1, ...  "
            ],
            "text/html": [
              "\n",
              "  <div id=\"df-9474b677-b6ed-445c-8f2d-c5347b15a0f1\">\n",
              "    <div class=\"colab-df-container\">\n",
              "      <div>\n",
              "<style scoped>\n",
              "    .dataframe tbody tr th:only-of-type {\n",
              "        vertical-align: middle;\n",
              "    }\n",
              "\n",
              "    .dataframe tbody tr th {\n",
              "        vertical-align: top;\n",
              "    }\n",
              "\n",
              "    .dataframe thead th {\n",
              "        text-align: right;\n",
              "    }\n",
              "</style>\n",
              "<table border=\"1\" class=\"dataframe\">\n",
              "  <thead>\n",
              "    <tr style=\"text-align: right;\">\n",
              "      <th></th>\n",
              "      <th>text</th>\n",
              "      <th>list</th>\n",
              "    </tr>\n",
              "  </thead>\n",
              "  <tbody>\n",
              "    <tr>\n",
              "      <th>0</th>\n",
              "      <td>We should ban human cloning in favor of we sho...</td>\n",
              "      <td>[0, 0, 0, 0, 0, 0, 0, 0, 0, 1, 0, 0, 0, 0, 0, ...</td>\n",
              "    </tr>\n",
              "    <tr>\n",
              "      <th>1</th>\n",
              "      <td>We should ban fast food in favor of fast food ...</td>\n",
              "      <td>[0, 0, 0, 0, 0, 0, 0, 0, 1, 0, 0, 0, 0, 0, 0, ...</td>\n",
              "    </tr>\n",
              "    <tr>\n",
              "      <th>2</th>\n",
              "      <td>We should end the use of economic sanctions ag...</td>\n",
              "      <td>[0, 0, 0, 0, 0, 1, 0, 0, 0, 1, 0, 0, 0, 0, 0, ...</td>\n",
              "    </tr>\n",
              "    <tr>\n",
              "      <th>3</th>\n",
              "      <td>We should abolish capital punishment against c...</td>\n",
              "      <td>[0, 0, 0, 0, 0, 0, 0, 0, 0, 1, 0, 1, 0, 0, 0, ...</td>\n",
              "    </tr>\n",
              "    <tr>\n",
              "      <th>4</th>\n",
              "      <td>We should ban factory farming against factory ...</td>\n",
              "      <td>[0, 0, 0, 0, 0, 0, 0, 0, 1, 0, 0, 0, 0, 0, 1, ...</td>\n",
              "    </tr>\n",
              "  </tbody>\n",
              "</table>\n",
              "</div>\n",
              "      <button class=\"colab-df-convert\" onclick=\"convertToInteractive('df-9474b677-b6ed-445c-8f2d-c5347b15a0f1')\"\n",
              "              title=\"Convert this dataframe to an interactive table.\"\n",
              "              style=\"display:none;\">\n",
              "        \n",
              "  <svg xmlns=\"http://www.w3.org/2000/svg\" height=\"24px\"viewBox=\"0 0 24 24\"\n",
              "       width=\"24px\">\n",
              "    <path d=\"M0 0h24v24H0V0z\" fill=\"none\"/>\n",
              "    <path d=\"M18.56 5.44l.94 2.06.94-2.06 2.06-.94-2.06-.94-.94-2.06-.94 2.06-2.06.94zm-11 1L8.5 8.5l.94-2.06 2.06-.94-2.06-.94L8.5 2.5l-.94 2.06-2.06.94zm10 10l.94 2.06.94-2.06 2.06-.94-2.06-.94-.94-2.06-.94 2.06-2.06.94z\"/><path d=\"M17.41 7.96l-1.37-1.37c-.4-.4-.92-.59-1.43-.59-.52 0-1.04.2-1.43.59L10.3 9.45l-7.72 7.72c-.78.78-.78 2.05 0 2.83L4 21.41c.39.39.9.59 1.41.59.51 0 1.02-.2 1.41-.59l7.78-7.78 2.81-2.81c.8-.78.8-2.07 0-2.86zM5.41 20L4 18.59l7.72-7.72 1.47 1.35L5.41 20z\"/>\n",
              "  </svg>\n",
              "      </button>\n",
              "      \n",
              "  <style>\n",
              "    .colab-df-container {\n",
              "      display:flex;\n",
              "      flex-wrap:wrap;\n",
              "      gap: 12px;\n",
              "    }\n",
              "\n",
              "    .colab-df-convert {\n",
              "      background-color: #E8F0FE;\n",
              "      border: none;\n",
              "      border-radius: 50%;\n",
              "      cursor: pointer;\n",
              "      display: none;\n",
              "      fill: #1967D2;\n",
              "      height: 32px;\n",
              "      padding: 0 0 0 0;\n",
              "      width: 32px;\n",
              "    }\n",
              "\n",
              "    .colab-df-convert:hover {\n",
              "      background-color: #E2EBFA;\n",
              "      box-shadow: 0px 1px 2px rgba(60, 64, 67, 0.3), 0px 1px 3px 1px rgba(60, 64, 67, 0.15);\n",
              "      fill: #174EA6;\n",
              "    }\n",
              "\n",
              "    [theme=dark] .colab-df-convert {\n",
              "      background-color: #3B4455;\n",
              "      fill: #D2E3FC;\n",
              "    }\n",
              "\n",
              "    [theme=dark] .colab-df-convert:hover {\n",
              "      background-color: #434B5C;\n",
              "      box-shadow: 0px 1px 3px 1px rgba(0, 0, 0, 0.15);\n",
              "      filter: drop-shadow(0px 1px 2px rgba(0, 0, 0, 0.3));\n",
              "      fill: #FFFFFF;\n",
              "    }\n",
              "  </style>\n",
              "\n",
              "      <script>\n",
              "        const buttonEl =\n",
              "          document.querySelector('#df-9474b677-b6ed-445c-8f2d-c5347b15a0f1 button.colab-df-convert');\n",
              "        buttonEl.style.display =\n",
              "          google.colab.kernel.accessAllowed ? 'block' : 'none';\n",
              "\n",
              "        async function convertToInteractive(key) {\n",
              "          const element = document.querySelector('#df-9474b677-b6ed-445c-8f2d-c5347b15a0f1');\n",
              "          const dataTable =\n",
              "            await google.colab.kernel.invokeFunction('convertToInteractive',\n",
              "                                                     [key], {});\n",
              "          if (!dataTable) return;\n",
              "\n",
              "          const docLinkHtml = 'Like what you see? Visit the ' +\n",
              "            '<a target=\"_blank\" href=https://colab.research.google.com/notebooks/data_table.ipynb>data table notebook</a>'\n",
              "            + ' to learn more about interactive tables.';\n",
              "          element.innerHTML = '';\n",
              "          dataTable['output_type'] = 'display_data';\n",
              "          await google.colab.output.renderOutput(dataTable, element);\n",
              "          const docLink = document.createElement('div');\n",
              "          docLink.innerHTML = docLinkHtml;\n",
              "          element.appendChild(docLink);\n",
              "        }\n",
              "      </script>\n",
              "    </div>\n",
              "  </div>\n",
              "  "
            ]
          },
          "metadata": {},
          "execution_count": 212
        }
      ],
      "source": [
        "df = args_train.merge(labels_train)\n",
        "df['list'] = df[df.columns[4:]].values.tolist()\n",
        "df['text'] = df.Conclusion+\" \"+df.Stance+\" \"+df.Premise\n",
        "df_train = df[['text', 'list']].copy()\n",
        "df_train.head()"
      ]
    },
    {
      "cell_type": "code",
      "execution_count": 213,
      "metadata": {
        "id": "F-7bEo78wUdc"
      },
      "outputs": [],
      "source": [
        "args_test = pd.read_csv(\"arguments-validation.tsv\", delimiter='\\t')\n",
        "labels_test = pd.read_csv(\"labels-validation.tsv\", delimiter='\\t')"
      ]
    },
    {
      "cell_type": "markdown",
      "metadata": {
        "id": "BVKHRgEoOeIl"
      },
      "source": [
        "Preparation of test set:"
      ]
    },
    {
      "cell_type": "code",
      "execution_count": 214,
      "metadata": {
        "colab": {
          "base_uri": "https://localhost:8080/",
          "height": 206
        },
        "id": "x4xeWOy4wfss",
        "outputId": "285bdf38-9a21-4855-c44c-0b917416e66f"
      },
      "outputs": [
        {
          "output_type": "execute_result",
          "data": {
            "text/plain": [
              "                                                text  \\\n",
              "0  Entrapment should be legalized in favor of if ...   \n",
              "1  The use of public defenders should be mandator...   \n",
              "2  Payday loans should be banned in favor of payd...   \n",
              "3  Surrogacy should be banned against Surrogacy s...   \n",
              "4  Entrapment should be legalized against entrapm...   \n",
              "\n",
              "                                                list  \n",
              "0  [0, 0, 0, 0, 0, 0, 0, 0, 0, 1, 0, 0, 0, 0, 0, ...  \n",
              "1  [0, 0, 0, 0, 0, 0, 0, 0, 0, 0, 0, 0, 0, 0, 0, ...  \n",
              "2  [0, 0, 0, 0, 0, 0, 0, 0, 1, 0, 0, 0, 0, 0, 0, ...  \n",
              "3  [0, 1, 0, 0, 0, 0, 0, 0, 0, 0, 0, 0, 0, 0, 0, ...  \n",
              "4  [0, 0, 0, 0, 0, 0, 0, 0, 0, 0, 0, 1, 0, 0, 0, ...  "
            ],
            "text/html": [
              "\n",
              "  <div id=\"df-e0efe625-8f1b-4138-8c7d-2b6d3556a597\">\n",
              "    <div class=\"colab-df-container\">\n",
              "      <div>\n",
              "<style scoped>\n",
              "    .dataframe tbody tr th:only-of-type {\n",
              "        vertical-align: middle;\n",
              "    }\n",
              "\n",
              "    .dataframe tbody tr th {\n",
              "        vertical-align: top;\n",
              "    }\n",
              "\n",
              "    .dataframe thead th {\n",
              "        text-align: right;\n",
              "    }\n",
              "</style>\n",
              "<table border=\"1\" class=\"dataframe\">\n",
              "  <thead>\n",
              "    <tr style=\"text-align: right;\">\n",
              "      <th></th>\n",
              "      <th>text</th>\n",
              "      <th>list</th>\n",
              "    </tr>\n",
              "  </thead>\n",
              "  <tbody>\n",
              "    <tr>\n",
              "      <th>0</th>\n",
              "      <td>Entrapment should be legalized in favor of if ...</td>\n",
              "      <td>[0, 0, 0, 0, 0, 0, 0, 0, 0, 1, 0, 0, 0, 0, 0, ...</td>\n",
              "    </tr>\n",
              "    <tr>\n",
              "      <th>1</th>\n",
              "      <td>The use of public defenders should be mandator...</td>\n",
              "      <td>[0, 0, 0, 0, 0, 0, 0, 0, 0, 0, 0, 0, 0, 0, 0, ...</td>\n",
              "    </tr>\n",
              "    <tr>\n",
              "      <th>2</th>\n",
              "      <td>Payday loans should be banned in favor of payd...</td>\n",
              "      <td>[0, 0, 0, 0, 0, 0, 0, 0, 1, 0, 0, 0, 0, 0, 0, ...</td>\n",
              "    </tr>\n",
              "    <tr>\n",
              "      <th>3</th>\n",
              "      <td>Surrogacy should be banned against Surrogacy s...</td>\n",
              "      <td>[0, 1, 0, 0, 0, 0, 0, 0, 0, 0, 0, 0, 0, 0, 0, ...</td>\n",
              "    </tr>\n",
              "    <tr>\n",
              "      <th>4</th>\n",
              "      <td>Entrapment should be legalized against entrapm...</td>\n",
              "      <td>[0, 0, 0, 0, 0, 0, 0, 0, 0, 0, 0, 1, 0, 0, 0, ...</td>\n",
              "    </tr>\n",
              "  </tbody>\n",
              "</table>\n",
              "</div>\n",
              "      <button class=\"colab-df-convert\" onclick=\"convertToInteractive('df-e0efe625-8f1b-4138-8c7d-2b6d3556a597')\"\n",
              "              title=\"Convert this dataframe to an interactive table.\"\n",
              "              style=\"display:none;\">\n",
              "        \n",
              "  <svg xmlns=\"http://www.w3.org/2000/svg\" height=\"24px\"viewBox=\"0 0 24 24\"\n",
              "       width=\"24px\">\n",
              "    <path d=\"M0 0h24v24H0V0z\" fill=\"none\"/>\n",
              "    <path d=\"M18.56 5.44l.94 2.06.94-2.06 2.06-.94-2.06-.94-.94-2.06-.94 2.06-2.06.94zm-11 1L8.5 8.5l.94-2.06 2.06-.94-2.06-.94L8.5 2.5l-.94 2.06-2.06.94zm10 10l.94 2.06.94-2.06 2.06-.94-2.06-.94-.94-2.06-.94 2.06-2.06.94z\"/><path d=\"M17.41 7.96l-1.37-1.37c-.4-.4-.92-.59-1.43-.59-.52 0-1.04.2-1.43.59L10.3 9.45l-7.72 7.72c-.78.78-.78 2.05 0 2.83L4 21.41c.39.39.9.59 1.41.59.51 0 1.02-.2 1.41-.59l7.78-7.78 2.81-2.81c.8-.78.8-2.07 0-2.86zM5.41 20L4 18.59l7.72-7.72 1.47 1.35L5.41 20z\"/>\n",
              "  </svg>\n",
              "      </button>\n",
              "      \n",
              "  <style>\n",
              "    .colab-df-container {\n",
              "      display:flex;\n",
              "      flex-wrap:wrap;\n",
              "      gap: 12px;\n",
              "    }\n",
              "\n",
              "    .colab-df-convert {\n",
              "      background-color: #E8F0FE;\n",
              "      border: none;\n",
              "      border-radius: 50%;\n",
              "      cursor: pointer;\n",
              "      display: none;\n",
              "      fill: #1967D2;\n",
              "      height: 32px;\n",
              "      padding: 0 0 0 0;\n",
              "      width: 32px;\n",
              "    }\n",
              "\n",
              "    .colab-df-convert:hover {\n",
              "      background-color: #E2EBFA;\n",
              "      box-shadow: 0px 1px 2px rgba(60, 64, 67, 0.3), 0px 1px 3px 1px rgba(60, 64, 67, 0.15);\n",
              "      fill: #174EA6;\n",
              "    }\n",
              "\n",
              "    [theme=dark] .colab-df-convert {\n",
              "      background-color: #3B4455;\n",
              "      fill: #D2E3FC;\n",
              "    }\n",
              "\n",
              "    [theme=dark] .colab-df-convert:hover {\n",
              "      background-color: #434B5C;\n",
              "      box-shadow: 0px 1px 3px 1px rgba(0, 0, 0, 0.15);\n",
              "      filter: drop-shadow(0px 1px 2px rgba(0, 0, 0, 0.3));\n",
              "      fill: #FFFFFF;\n",
              "    }\n",
              "  </style>\n",
              "\n",
              "      <script>\n",
              "        const buttonEl =\n",
              "          document.querySelector('#df-e0efe625-8f1b-4138-8c7d-2b6d3556a597 button.colab-df-convert');\n",
              "        buttonEl.style.display =\n",
              "          google.colab.kernel.accessAllowed ? 'block' : 'none';\n",
              "\n",
              "        async function convertToInteractive(key) {\n",
              "          const element = document.querySelector('#df-e0efe625-8f1b-4138-8c7d-2b6d3556a597');\n",
              "          const dataTable =\n",
              "            await google.colab.kernel.invokeFunction('convertToInteractive',\n",
              "                                                     [key], {});\n",
              "          if (!dataTable) return;\n",
              "\n",
              "          const docLinkHtml = 'Like what you see? Visit the ' +\n",
              "            '<a target=\"_blank\" href=https://colab.research.google.com/notebooks/data_table.ipynb>data table notebook</a>'\n",
              "            + ' to learn more about interactive tables.';\n",
              "          element.innerHTML = '';\n",
              "          dataTable['output_type'] = 'display_data';\n",
              "          await google.colab.output.renderOutput(dataTable, element);\n",
              "          const docLink = document.createElement('div');\n",
              "          docLink.innerHTML = docLinkHtml;\n",
              "          element.appendChild(docLink);\n",
              "        }\n",
              "      </script>\n",
              "    </div>\n",
              "  </div>\n",
              "  "
            ]
          },
          "metadata": {},
          "execution_count": 214
        }
      ],
      "source": [
        "df = args_test.merge(labels_test)\n",
        "df['list'] = df[df.columns[4:]].values.tolist()\n",
        "df['text'] = df.Conclusion+\" \"+df.Stance+\" \"+df.Premise\n",
        "df_test = df[['text', 'list']].copy()\n",
        "df_test.head()"
      ]
    },
    {
      "cell_type": "markdown",
      "metadata": {
        "id": "6VQlrH7NSr9_"
      },
      "source": [
        "<a id='section03'></a>\n",
        "### Preparing the Dataset and Dataloader\n",
        "We will go through the following workflow:\n",
        "1. Definition of global variables that will be used later \n",
        "during the training/fine tuning stage.\n",
        "2. Creation of CustomDataset class - This defines how the text is pre-processed before sending it to the neural network. \n",
        "3. Definiition of the Dataloader that will feed  the data in batches to the neural network for suitable training and processing. \n",
        "---\n",
        "***NOTE***\n",
        "\n",
        "Dataset and Dataloader are constructs of the [PyTorch library](https://pytorch.org/docs/stable/data.html) for defining and controlling the data pre-processing and its passage to neural network.\n"
      ]
    },
    {
      "cell_type": "markdown",
      "metadata": {
        "id": "Po0fklDiWH61"
      },
      "source": [
        "#### Definition of global variables"
      ]
    },
    {
      "cell_type": "markdown",
      "metadata": {
        "id": "gG_u0Ry7OeIm"
      },
      "source": [
        "We train and test five different pretrained models. Here we select the model and specify the hyperparameters."
      ]
    },
    {
      "cell_type": "code",
      "execution_count": 236,
      "metadata": {
        "id": "ikfbFlNHgi8T"
      },
      "outputs": [],
      "source": [
        "# Sections of config\n",
        "\n",
        "# Defining some key variables that will be used later on in the training\n",
        "#MODEL_NAME = 'bert-base-uncased'\n",
        "#MODEL_NAME = 'bert-large-uncased'\n",
        "#MODEL_NAME = 'roberta-base'\n",
        "#MODEL_NAME = 'roberta-large'\n",
        "MODEL_NAME = 'distilbert-base-uncased'\n",
        "\n",
        "MAX_LEN = 75\n",
        "BATCH_SIZE = 16\n",
        "EPOCHS = 12\n",
        "LEARNING_RATE = 2e-05\n",
        "OUT_CHANNELS = 768 if \"base\" in  MODEL_NAME else 1024\n",
        "\n",
        "tokenizer = AutoTokenizer.from_pretrained(MODEL_NAME)"
      ]
    },
    {
      "cell_type": "markdown",
      "metadata": {
        "id": "iH9wr23MWULM"
      },
      "source": [
        "\n",
        "#### *CustomDataset* Dataset Class\n",
        "- This class is defined to accept the `tokenizer`, `dataframe` and `max_length` as input and generate tokenized output and tags that is used by the BERT/ROBERTA/DISTILBERT model for training. \n",
        "- We are using the BERT/ROBERTA/DISTILBERT tokenizer to tokenize the data in the `comment_text` column of the dataframe.\n",
        "- The tokenizer uses the `encode_plus` method to perform tokenization and generate the necessary outputs, namely: `ids`, `attention_mask`, `token_type_ids` (*the latter is not generated by DISTILBERT tokenizer*)\n",
        "\n",
        "- `targest` is the list of categories labled as `0` or `1` in the dataframe. \n",
        "- The *CustomDataset* class is used to create 2 datasets, for training and for validation.\n",
        "- *Training Dataset* is used to fine tune the model.\n",
        "- *Validation Dataset* is used to evaluate the performance of the model. "
      ]
    },
    {
      "cell_type": "code",
      "execution_count": 217,
      "metadata": {
        "id": "oFOylAXqiNYK"
      },
      "outputs": [],
      "source": [
        "class CustomDataset(Dataset):\n",
        "\n",
        "    def __init__(self, dataframe, tokenizer, max_len):\n",
        "        self.tokenizer = tokenizer\n",
        "        self.data = dataframe\n",
        "        self.text = dataframe.text\n",
        "        self.targets = self.data.list #labels\n",
        "        self.max_len = max_len\n",
        "\n",
        "    def __len__(self):\n",
        "        return len(self.text)\n",
        "\n",
        "    def __getitem__(self, index):\n",
        "        text = str(self.text[index])\n",
        "        text = \" \".join(text.split())\n",
        "\n",
        "        inputs = self.tokenizer.encode_plus(\n",
        "            text,\n",
        "            None,\n",
        "            add_special_tokens=True,\n",
        "            max_length=self.max_len,\n",
        "            truncation=True,\n",
        "            padding='max_length',\n",
        "            return_token_type_ids=True\n",
        "        )\n",
        "        ids = inputs['input_ids']\n",
        "        mask = inputs['attention_mask']\n",
        "        token_type_ids = inputs[\"token_type_ids\"]\n",
        "\n",
        "\n",
        "        return {\n",
        "            'ids': torch.tensor(ids, dtype=torch.long),\n",
        "            'mask': torch.tensor(mask, dtype=torch.long),\n",
        "            'token_type_ids': torch.tensor(token_type_ids, dtype=torch.long),\n",
        "            'targets': torch.tensor(self.targets[index], dtype=torch.float)\n",
        "        }"
      ]
    },
    {
      "cell_type": "code",
      "execution_count": 218,
      "metadata": {
        "colab": {
          "base_uri": "https://localhost:8080/"
        },
        "id": "PkDGqarcPowL",
        "outputId": "610dfa8b-e894-4b9e-ba0d-6c1e16dee655"
      },
      "outputs": [
        {
          "output_type": "stream",
          "name": "stdout",
          "text": [
            "TRAIN Dataset: (5393, 2)\n",
            "TEST Dataset: (1896, 2)\n"
          ]
        }
      ],
      "source": [
        "# Creating the dataset and dataloader for the neural network\n",
        "\n",
        "print(\"TRAIN Dataset: {}\".format(df_train.shape))\n",
        "print(\"TEST Dataset: {}\".format(df_test.shape))\n",
        "\n",
        "training_set = CustomDataset(df_train, tokenizer, MAX_LEN)\n",
        "testing_set = CustomDataset(df_test, tokenizer, MAX_LEN)"
      ]
    },
    {
      "cell_type": "markdown",
      "metadata": {
        "id": "TqMWh_JtVdHP"
      },
      "source": [
        "#### Dataloader\n",
        "- Dataloader is used to create training and validation dataloader that load data to the neural network in a defined manner. This is needed because all the data from the dataset cannot be loaded to the memory at once, hence the amount of data loaded to the memory and then passed to the neural network needs to be controlled.\n",
        "- This control is achieved using the parameters such as `batch_size` and `max_len`.\n",
        "- Training and Validation dataloaders are used in the training and validation part of the flow respectively"
      ]
    },
    {
      "cell_type": "code",
      "execution_count": 219,
      "metadata": {
        "id": "vLpilV73QrXJ"
      },
      "outputs": [],
      "source": [
        "training_loader = DataLoader(training_set, batch_size = BATCH_SIZE)\n",
        "testing_loader = DataLoader(testing_set, batch_size = BATCH_SIZE)"
      ]
    },
    {
      "cell_type": "markdown",
      "metadata": {
        "id": "1Ywuv7ShWqVa"
      },
      "source": [
        "<a id='section04'></a>\n",
        "\n",
        "#### Neural network\n",
        "We will be creating a neural network with either the `BERTClass` or `DistilbertClass` depending on the established `MODEL_NAME`. \n",
        "\n",
        "##### BERTClass\n",
        "\n",
        "- This network will have the `Bert` / `Roberta` model follwed by a `Droput` and `Linear Layer`. They are added for the purpose of **Regulariaztion** and **Classification** respectively. \n",
        "- In the forward loop, there are 2 output from the `BertModel` / `RobertaModel` layer.\n",
        "- The second output `output_1` or called the `pooled output` is passed to the `Drop Out layer` and the subsequent output is given to the `Linear layer`. \n",
        "- Keep note the number of dimensions for `Linear Layer` is **20** because that is the total number of categories in which we are looking to classify our model.\n",
        "- The data will be fed to the `BertClass` as defined in the dataset. \n",
        "- Final layer outputs is what will be used to calcuate the loss and to determine the accuracy of models prediction. \n",
        "- We will initiate an instance of the network called `model`. This instance will be used for training and then to save the final trained model for future inference. \n",
        "\n",
        "##### DistilbertClass\n",
        "- We will be creating a neural network with the `DistillbertClass`. \n",
        "- This network will have the DistilBERT Language model followed by a `dropout` and finally a `Linear` layer to obtain the final outputs. \n",
        "- The data will be fed to the DistilBERT Language model as defined in the dataset. \n",
        "- Final layer outputs is what will be compared to the `encoded category` to determine the accuracy of models prediction. \n",
        "- We will initiate an instance of the network called `model`. This instance will be used for training and then to save the final trained model for future inference. \n",
        "\n",
        "---\n",
        "***NOTE***\n",
        "- *It is to be noted that the outputs to the BERT and ROBERTA models are different from DISTILBERT Model implemented by the Hugging Face team. There are no `token_type_ids` generated from the tokenizer in case of DISTILBERT and also the final outputs from the network differ.*\n",
        "\n",
        "---"
      ]
    },
    {
      "cell_type": "code",
      "execution_count": 220,
      "metadata": {
        "id": "DegHNyIEQxB2"
      },
      "outputs": [],
      "source": [
        "# Creating the customized model, by adding a drop out and a dense layer on top of distil bert to get the final output for the model. \n",
        "\n",
        "class BERTClass(torch.nn.Module):\n",
        "    def __init__(self,model):\n",
        "        super(BERTClass, self).__init__()\n",
        "        self.l1 = transformers.AutoModel.from_pretrained(model, return_dict=False)\n",
        "        self.l2 = torch.nn.Dropout(p=0.3)\n",
        "        self.l3 = torch.nn.Linear(OUT_CHANNELS, 20)\n",
        "    \n",
        "    def forward(self, ids, mask, token_type_ids):\n",
        "        _, output_1= self.l1(ids, attention_mask = mask, token_type_ids = token_type_ids)\n",
        "        output_2 = self.l2(output_1)\n",
        "        output = self.l3(output_2)\n",
        "        return output\n"
      ]
    },
    {
      "cell_type": "code",
      "execution_count": 221,
      "metadata": {
        "id": "-mPVLJq-yHhK"
      },
      "outputs": [],
      "source": [
        "# Creating the customized model, by adding a drop out and a dense layer on top of distil bert to get the final output for the model. \n",
        "\n",
        "class DistilbertClass(torch.nn.Module):\n",
        "    def __init__(self,model):\n",
        "        super(DistilbertClass, self).__init__()\n",
        "        self.l1 = transformers.AutoModel.from_pretrained(model, return_dict=False)\n",
        "        self.dropout = torch.nn.Dropout(0.3)\n",
        "        self.classifier = torch.nn.Linear(OUT_CHANNELS, 20)\n",
        "\n",
        "    def forward(self, ids, mask, token_type_ids):\n",
        "        output_1 = self.l1(input_ids=ids, attention_mask=mask)\n",
        "        hidden_state = output_1[0]\n",
        "        pooler = hidden_state[:, 0]\n",
        "        pooler = self.dropout(pooler)\n",
        "        output = self.classifier(pooler)\n",
        "        \n",
        "        return output\n"
      ]
    },
    {
      "cell_type": "code",
      "execution_count": 237,
      "metadata": {
        "colab": {
          "base_uri": "https://localhost:8080/"
        },
        "id": "kRT62BLwyJq6",
        "outputId": "680401f3-6f92-47ba-ccca-2efbdd7b4a2a"
      },
      "outputs": [
        {
          "output_type": "stream",
          "name": "stderr",
          "text": [
            "Some weights of the model checkpoint at distilbert-base-uncased were not used when initializing DistilBertModel: ['vocab_projector.weight', 'vocab_transform.weight', 'vocab_layer_norm.bias', 'vocab_projector.bias', 'vocab_layer_norm.weight', 'vocab_transform.bias']\n",
            "- This IS expected if you are initializing DistilBertModel from the checkpoint of a model trained on another task or with another architecture (e.g. initializing a BertForSequenceClassification model from a BertForPreTraining model).\n",
            "- This IS NOT expected if you are initializing DistilBertModel from the checkpoint of a model that you expect to be exactly identical (initializing a BertForSequenceClassification model from a BertForSequenceClassification model).\n"
          ]
        },
        {
          "output_type": "execute_result",
          "data": {
            "text/plain": [
              "DistilbertClass(\n",
              "  (l1): DistilBertModel(\n",
              "    (embeddings): Embeddings(\n",
              "      (word_embeddings): Embedding(30522, 768, padding_idx=0)\n",
              "      (position_embeddings): Embedding(512, 768)\n",
              "      (LayerNorm): LayerNorm((768,), eps=1e-12, elementwise_affine=True)\n",
              "      (dropout): Dropout(p=0.1, inplace=False)\n",
              "    )\n",
              "    (transformer): Transformer(\n",
              "      (layer): ModuleList(\n",
              "        (0): TransformerBlock(\n",
              "          (attention): MultiHeadSelfAttention(\n",
              "            (dropout): Dropout(p=0.1, inplace=False)\n",
              "            (q_lin): Linear(in_features=768, out_features=768, bias=True)\n",
              "            (k_lin): Linear(in_features=768, out_features=768, bias=True)\n",
              "            (v_lin): Linear(in_features=768, out_features=768, bias=True)\n",
              "            (out_lin): Linear(in_features=768, out_features=768, bias=True)\n",
              "          )\n",
              "          (sa_layer_norm): LayerNorm((768,), eps=1e-12, elementwise_affine=True)\n",
              "          (ffn): FFN(\n",
              "            (dropout): Dropout(p=0.1, inplace=False)\n",
              "            (lin1): Linear(in_features=768, out_features=3072, bias=True)\n",
              "            (lin2): Linear(in_features=3072, out_features=768, bias=True)\n",
              "            (activation): GELUActivation()\n",
              "          )\n",
              "          (output_layer_norm): LayerNorm((768,), eps=1e-12, elementwise_affine=True)\n",
              "        )\n",
              "        (1): TransformerBlock(\n",
              "          (attention): MultiHeadSelfAttention(\n",
              "            (dropout): Dropout(p=0.1, inplace=False)\n",
              "            (q_lin): Linear(in_features=768, out_features=768, bias=True)\n",
              "            (k_lin): Linear(in_features=768, out_features=768, bias=True)\n",
              "            (v_lin): Linear(in_features=768, out_features=768, bias=True)\n",
              "            (out_lin): Linear(in_features=768, out_features=768, bias=True)\n",
              "          )\n",
              "          (sa_layer_norm): LayerNorm((768,), eps=1e-12, elementwise_affine=True)\n",
              "          (ffn): FFN(\n",
              "            (dropout): Dropout(p=0.1, inplace=False)\n",
              "            (lin1): Linear(in_features=768, out_features=3072, bias=True)\n",
              "            (lin2): Linear(in_features=3072, out_features=768, bias=True)\n",
              "            (activation): GELUActivation()\n",
              "          )\n",
              "          (output_layer_norm): LayerNorm((768,), eps=1e-12, elementwise_affine=True)\n",
              "        )\n",
              "        (2): TransformerBlock(\n",
              "          (attention): MultiHeadSelfAttention(\n",
              "            (dropout): Dropout(p=0.1, inplace=False)\n",
              "            (q_lin): Linear(in_features=768, out_features=768, bias=True)\n",
              "            (k_lin): Linear(in_features=768, out_features=768, bias=True)\n",
              "            (v_lin): Linear(in_features=768, out_features=768, bias=True)\n",
              "            (out_lin): Linear(in_features=768, out_features=768, bias=True)\n",
              "          )\n",
              "          (sa_layer_norm): LayerNorm((768,), eps=1e-12, elementwise_affine=True)\n",
              "          (ffn): FFN(\n",
              "            (dropout): Dropout(p=0.1, inplace=False)\n",
              "            (lin1): Linear(in_features=768, out_features=3072, bias=True)\n",
              "            (lin2): Linear(in_features=3072, out_features=768, bias=True)\n",
              "            (activation): GELUActivation()\n",
              "          )\n",
              "          (output_layer_norm): LayerNorm((768,), eps=1e-12, elementwise_affine=True)\n",
              "        )\n",
              "        (3): TransformerBlock(\n",
              "          (attention): MultiHeadSelfAttention(\n",
              "            (dropout): Dropout(p=0.1, inplace=False)\n",
              "            (q_lin): Linear(in_features=768, out_features=768, bias=True)\n",
              "            (k_lin): Linear(in_features=768, out_features=768, bias=True)\n",
              "            (v_lin): Linear(in_features=768, out_features=768, bias=True)\n",
              "            (out_lin): Linear(in_features=768, out_features=768, bias=True)\n",
              "          )\n",
              "          (sa_layer_norm): LayerNorm((768,), eps=1e-12, elementwise_affine=True)\n",
              "          (ffn): FFN(\n",
              "            (dropout): Dropout(p=0.1, inplace=False)\n",
              "            (lin1): Linear(in_features=768, out_features=3072, bias=True)\n",
              "            (lin2): Linear(in_features=3072, out_features=768, bias=True)\n",
              "            (activation): GELUActivation()\n",
              "          )\n",
              "          (output_layer_norm): LayerNorm((768,), eps=1e-12, elementwise_affine=True)\n",
              "        )\n",
              "        (4): TransformerBlock(\n",
              "          (attention): MultiHeadSelfAttention(\n",
              "            (dropout): Dropout(p=0.1, inplace=False)\n",
              "            (q_lin): Linear(in_features=768, out_features=768, bias=True)\n",
              "            (k_lin): Linear(in_features=768, out_features=768, bias=True)\n",
              "            (v_lin): Linear(in_features=768, out_features=768, bias=True)\n",
              "            (out_lin): Linear(in_features=768, out_features=768, bias=True)\n",
              "          )\n",
              "          (sa_layer_norm): LayerNorm((768,), eps=1e-12, elementwise_affine=True)\n",
              "          (ffn): FFN(\n",
              "            (dropout): Dropout(p=0.1, inplace=False)\n",
              "            (lin1): Linear(in_features=768, out_features=3072, bias=True)\n",
              "            (lin2): Linear(in_features=3072, out_features=768, bias=True)\n",
              "            (activation): GELUActivation()\n",
              "          )\n",
              "          (output_layer_norm): LayerNorm((768,), eps=1e-12, elementwise_affine=True)\n",
              "        )\n",
              "        (5): TransformerBlock(\n",
              "          (attention): MultiHeadSelfAttention(\n",
              "            (dropout): Dropout(p=0.1, inplace=False)\n",
              "            (q_lin): Linear(in_features=768, out_features=768, bias=True)\n",
              "            (k_lin): Linear(in_features=768, out_features=768, bias=True)\n",
              "            (v_lin): Linear(in_features=768, out_features=768, bias=True)\n",
              "            (out_lin): Linear(in_features=768, out_features=768, bias=True)\n",
              "          )\n",
              "          (sa_layer_norm): LayerNorm((768,), eps=1e-12, elementwise_affine=True)\n",
              "          (ffn): FFN(\n",
              "            (dropout): Dropout(p=0.1, inplace=False)\n",
              "            (lin1): Linear(in_features=768, out_features=3072, bias=True)\n",
              "            (lin2): Linear(in_features=3072, out_features=768, bias=True)\n",
              "            (activation): GELUActivation()\n",
              "          )\n",
              "          (output_layer_norm): LayerNorm((768,), eps=1e-12, elementwise_affine=True)\n",
              "        )\n",
              "      )\n",
              "    )\n",
              "  )\n",
              "  (dropout): Dropout(p=0.3, inplace=False)\n",
              "  (classifier): Linear(in_features=768, out_features=20, bias=True)\n",
              ")"
            ]
          },
          "metadata": {},
          "execution_count": 237
        }
      ],
      "source": [
        "model = BERTClass(MODEL_NAME) if \"distilbert\" not in MODEL_NAME else DistilbertClass(MODEL_NAME)\n",
        "model.to(device)"
      ]
    },
    {
      "cell_type": "markdown",
      "metadata": {
        "id": "pCovzcfwW6b1"
      },
      "source": [
        "#### Loss Function and Optimizer\n",
        " - The Loss is defined in the next cell as `loss_fn`.\n",
        " - As defined above, the loss function used will be a combination of Binary Cross Entropy which is implemented as [BCELogits Loss](https://pytorch.org/docs/stable/nn.html#bcewithlogitsloss) in PyTorch\n",
        " - `Optimizer` is used to update the weights of the neural network to improve its performance."
      ]
    },
    {
      "cell_type": "code",
      "execution_count": 230,
      "metadata": {
        "id": "7KnNeQx6SI78"
      },
      "outputs": [],
      "source": [
        "def loss_fn(outputs, targets):\n",
        "    return torch.nn.BCEWithLogitsLoss()(outputs, targets)"
      ]
    },
    {
      "cell_type": "code",
      "execution_count": 224,
      "metadata": {
        "id": "gUD8j0c7WsA-"
      },
      "outputs": [],
      "source": [
        "optimizer = torch.optim.Adam(params =  model.parameters(), lr=LEARNING_RATE)\n",
        "scheduler = get_linear_schedule_with_warmup(optimizer, num_warmup_steps=0, num_training_steps=len(training_loader)*EPOCHS)"
      ]
    },
    {
      "cell_type": "markdown",
      "metadata": {
        "id": "eL3We22Cgwyr"
      },
      "source": [
        "<a id='section05'></a>\n",
        "### Fine Tuning the Model\n",
        "\n",
        "Here we define a training function that trains the model on the training dataset created above, specifying the number of epochs.\n",
        "\n",
        "Following events happen in this function to fine tune the neural network:\n",
        "- The dataloader passes data to the model based on the batch size. \n",
        "- Subsequent output from the model and the actual category are compared to calculate the loss. \n",
        "- Loss value is used to optimize the weights of the neurons in the network.\n",
        "- After every 100 steps the loss value is printed in the console."
      ]
    },
    {
      "cell_type": "code",
      "execution_count": 225,
      "metadata": {
        "id": "B9_DjWmfWx1q"
      },
      "outputs": [],
      "source": [
        "def train():\n",
        "    size = len(training_loader.dataset)\n",
        "    model.train()\n",
        "    for batch,data in enumerate(training_loader, 0):\n",
        "        ids = data['ids'].to(device, dtype = torch.long)\n",
        "        mask = data['mask'].to(device, dtype = torch.long)\n",
        "        token_type_ids = data['token_type_ids'].to(device, dtype = torch.long)\n",
        "        targets = data['targets'].to(device, dtype = torch.float)\n",
        "\n",
        "        outputs = model(ids, mask, token_type_ids)\n",
        "        loss = loss_fn(outputs, targets)\n",
        "\n",
        "        # Backpropagation\n",
        "        optimizer.zero_grad()\n",
        "        loss.backward()\n",
        "        optimizer.step()\n",
        "        scheduler.step()\n",
        "\n",
        "        if batch%100==0:\n",
        "            current =  batch * len(data['ids'])\n",
        "            print(f\"Train loss: {loss.item():>7f}  [{current:>5d}/{size:>5d}]\")\n",
        "        \n",
        "        "
      ]
    },
    {
      "cell_type": "markdown",
      "metadata": {
        "id": "mnBZM8Mu9TNE"
      },
      "source": [
        "<a id='section06'></a>\n",
        "### Validating the Model\n",
        "\n",
        "During the validation stage we check the model’s performance against the testing dataset to ensure it is learning. This testing data is the one of `args-validation.tsv`. During the validation stage at each epoch we keep track of the average loss on the validation set. This check is then used to save the best model, such as the model which registered the lowest average loss on validation set during a specific epoch. "
      ]
    },
    {
      "cell_type": "code",
      "execution_count": 226,
      "metadata": {
        "id": "nIEoUm4aQkyl"
      },
      "outputs": [],
      "source": [
        "def validation(epoch, val_loss_min_input):\n",
        "    size = len(testing_loader.dataset)\n",
        "    num_batches = len(testing_loader)\n",
        "    model.eval()\n",
        "    val_loss = 0\n",
        "    #fin_targets=[]\n",
        "    #fin_outputs=[]\n",
        "    with torch.no_grad():\n",
        "        for batch_idx, data in enumerate(testing_loader, 0):\n",
        "            ids = data['ids'].to(device, dtype = torch.long)\n",
        "            mask = data['mask'].to(device, dtype = torch.long)\n",
        "            token_type_ids = data['token_type_ids'].to(device, dtype = torch.long)\n",
        "            targets = data['targets'].to(device, dtype = torch.float)\n",
        "            outputs = model(ids, mask, token_type_ids)\n",
        "            val_loss += loss_fn(outputs, targets).item()\n",
        "        \n",
        "        val_loss /= num_batches\n",
        "        #outputs, targets = fin_outputs, fin_targets\n",
        "        print(f\"\\nValidation loss: {val_loss:>8f}.\")\n",
        "        ## TODO: save the model if validation loss has decreased\n",
        "        if val_loss <= val_loss_min_input:\n",
        "            #create checkpoint variable and add important data\n",
        "            if epoch > 0: \n",
        "                print('Validation loss decreased ({:.8f} --> {:.8f}).  Saving model ...'.format(val_loss_min_input, val_loss))\n",
        "            else: print('Saving model ...')   \n",
        "            # save best moel\n",
        "            torch.save(model.state_dict(), \"model.pth\")\n",
        "            print(\"Saved PyTorch Model State to model.pth\\n\")\n",
        "            val_loss_min_input = val_loss\n",
        "    \n",
        "    return val_loss_min_input\n",
        "       "
      ]
    },
    {
      "cell_type": "code",
      "execution_count": 227,
      "metadata": {
        "colab": {
          "base_uri": "https://localhost:8080/"
        },
        "id": "Ov1_3R_pAcMo",
        "outputId": "4af1cf01-b548-4242-c0c3-cebd5cd1b89f"
      },
      "outputs": [
        {
          "output_type": "stream",
          "name": "stdout",
          "text": [
            "Epoch 1\n",
            "-------------------------------\n",
            "Train loss: 0.728254  [    0/ 5393]\n",
            "Train loss: 0.402364  [ 1600/ 5393]\n",
            "Train loss: 0.315985  [ 3200/ 5393]\n",
            "Train loss: 0.390934  [ 4800/ 5393]\n",
            "\n",
            "Validation loss: 0.375126.\n",
            "Saving model ...\n",
            "Saved PyTorch Model State to model.pth\n",
            "\n",
            "Epoch 2\n",
            "-------------------------------\n",
            "Train loss: 0.307828  [    0/ 5393]\n",
            "Train loss: 0.302203  [ 1600/ 5393]\n",
            "Train loss: 0.247453  [ 3200/ 5393]\n",
            "Train loss: 0.312001  [ 4800/ 5393]\n",
            "\n",
            "Validation loss: 0.354102.\n",
            "Validation loss decreased (0.37512582 --> 0.35410238).  Saving model ...\n",
            "Saved PyTorch Model State to model.pth\n",
            "\n",
            "Epoch 3\n",
            "-------------------------------\n",
            "Train loss: 0.281938  [    0/ 5393]\n",
            "Train loss: 0.261785  [ 1600/ 5393]\n",
            "Train loss: 0.224910  [ 3200/ 5393]\n",
            "Train loss: 0.273859  [ 4800/ 5393]\n",
            "\n",
            "Validation loss: 0.347379.\n",
            "Validation loss decreased (0.35410238 --> 0.34737905).  Saving model ...\n",
            "Saved PyTorch Model State to model.pth\n",
            "\n",
            "Epoch 4\n",
            "-------------------------------\n",
            "Train loss: 0.254144  [    0/ 5393]\n",
            "Train loss: 0.251004  [ 1600/ 5393]\n",
            "Train loss: 0.203814  [ 3200/ 5393]\n",
            "Train loss: 0.247953  [ 4800/ 5393]\n",
            "\n",
            "Validation loss: 0.344080.\n",
            "Validation loss decreased (0.34737905 --> 0.34408007).  Saving model ...\n",
            "Saved PyTorch Model State to model.pth\n",
            "\n",
            "Epoch 5\n",
            "-------------------------------\n",
            "Train loss: 0.227566  [    0/ 5393]\n",
            "Train loss: 0.234976  [ 1600/ 5393]\n",
            "Train loss: 0.176815  [ 3200/ 5393]\n",
            "Train loss: 0.219993  [ 4800/ 5393]\n",
            "\n",
            "Validation loss: 0.344508.\n",
            "Epoch 6\n",
            "-------------------------------\n",
            "Train loss: 0.208305  [    0/ 5393]\n",
            "Train loss: 0.205510  [ 1600/ 5393]\n",
            "Train loss: 0.160357  [ 3200/ 5393]\n",
            "Train loss: 0.199519  [ 4800/ 5393]\n",
            "\n",
            "Validation loss: 0.343699.\n",
            "Validation loss decreased (0.34408007 --> 0.34369871).  Saving model ...\n",
            "Saved PyTorch Model State to model.pth\n",
            "\n",
            "Epoch 7\n",
            "-------------------------------\n",
            "Train loss: 0.190629  [    0/ 5393]\n",
            "Train loss: 0.200109  [ 1600/ 5393]\n",
            "Train loss: 0.151705  [ 3200/ 5393]\n",
            "Train loss: 0.174485  [ 4800/ 5393]\n",
            "\n",
            "Validation loss: 0.349570.\n",
            "Epoch 8\n",
            "-------------------------------\n",
            "Train loss: 0.186631  [    0/ 5393]\n",
            "Train loss: 0.180607  [ 1600/ 5393]\n",
            "Train loss: 0.147660  [ 3200/ 5393]\n",
            "Train loss: 0.165999  [ 4800/ 5393]\n",
            "\n",
            "Validation loss: 0.360164.\n",
            "Epoch 9\n",
            "-------------------------------\n",
            "Train loss: 0.171687  [    0/ 5393]\n",
            "Train loss: 0.167085  [ 1600/ 5393]\n",
            "Train loss: 0.133869  [ 3200/ 5393]\n",
            "Train loss: 0.155732  [ 4800/ 5393]\n",
            "\n",
            "Validation loss: 0.362964.\n",
            "Epoch 10\n",
            "-------------------------------\n",
            "Train loss: 0.165184  [    0/ 5393]\n",
            "Train loss: 0.161878  [ 1600/ 5393]\n",
            "Train loss: 0.138247  [ 3200/ 5393]\n",
            "Train loss: 0.146335  [ 4800/ 5393]\n",
            "\n",
            "Validation loss: 0.364104.\n",
            "Epoch 11\n",
            "-------------------------------\n",
            "Train loss: 0.153336  [    0/ 5393]\n",
            "Train loss: 0.155901  [ 1600/ 5393]\n",
            "Train loss: 0.126231  [ 3200/ 5393]\n",
            "Train loss: 0.147800  [ 4800/ 5393]\n",
            "\n",
            "Validation loss: 0.361731.\n",
            "Epoch 12\n",
            "-------------------------------\n",
            "Train loss: 0.144192  [    0/ 5393]\n",
            "Train loss: 0.142260  [ 1600/ 5393]\n",
            "Train loss: 0.139451  [ 3200/ 5393]\n",
            "Train loss: 0.143745  [ 4800/ 5393]\n",
            "\n",
            "Validation loss: 0.360503.\n"
          ]
        }
      ],
      "source": [
        "val_loss_min = np.inf\n",
        "for epoch in range(EPOCHS):\n",
        "    print(f\"Epoch {epoch+1}\\n-------------------------------\")\n",
        "    train()\n",
        "    val_loss_min = validation(epoch, val_loss_min)\n",
        "   "
      ]
    },
    {
      "cell_type": "markdown",
      "metadata": {
        "id": "-1zEtHDQJz2R"
      },
      "source": [
        "# MODELS EVALUATION"
      ]
    },
    {
      "cell_type": "code",
      "execution_count": 195,
      "metadata": {
        "id": "mVe17jftOsvY"
      },
      "outputs": [],
      "source": [
        "def test():\n",
        "    model.eval()\n",
        "    fin_targets=[]\n",
        "    fin_outputs=[]\n",
        "    with torch.no_grad():\n",
        "        for _, data in enumerate(testing_loader, 0):\n",
        "            ids = data['ids'].to(device, dtype = torch.long)\n",
        "            mask = data['mask'].to(device, dtype = torch.long)\n",
        "            token_type_ids = data['token_type_ids'].to(device, dtype = torch.long)\n",
        "            targets = data['targets'].to(device, dtype = torch.float)\n",
        "            outputs = model(ids, mask, token_type_ids)\n",
        "            fin_targets.extend(targets.cpu().detach().numpy().tolist())\n",
        "            fin_outputs.extend(torch.sigmoid(outputs).cpu().detach().numpy().tolist())\n",
        "    return fin_outputs, fin_targets"
      ]
    },
    {
      "cell_type": "code",
      "source": [
        "path = 'drive/MyDrive/best_weights/'\n",
        "best_weights_bert_base = path + 'weights_bert-base-uncased.pth'\n",
        "best_weights_bert_large = path + 'weights_bert-large-uncased.pth'\n",
        "best_weights_roberta_base = path + 'weights_roberta-base.pth'\n",
        "best_weights_roberta_large = path + 'weights_roberta-large.pth'\n",
        "best_weights_distilbert = path + 'weights_distilbert-base-uncased.pth'"
      ],
      "metadata": {
        "id": "dc2Oc_BZpbE7"
      },
      "execution_count": 196,
      "outputs": []
    },
    {
      "cell_type": "markdown",
      "metadata": {
        "id": "r-Qc0RgxJ4pl"
      },
      "source": [
        "## BERT BASE"
      ]
    },
    {
      "cell_type": "markdown",
      "metadata": {
        "id": "4MKBGtvmF0Q_"
      },
      "source": [
        "### Reloading the best model\n",
        "According to the average validation loss calculated at epoch, we restored the weights of the best model saved into `model.pth`. This way we make sure to load model that didn't overfit."
      ]
    },
    {
      "cell_type": "code",
      "execution_count": 232,
      "metadata": {
        "colab": {
          "base_uri": "https://localhost:8080/"
        },
        "id": "xjRZJ1YYVeM2",
        "outputId": "2ddc245b-8dfa-40f4-9c60-0e59be50565f"
      },
      "outputs": [
        {
          "output_type": "stream",
          "name": "stderr",
          "text": [
            "Some weights of the model checkpoint at bert-base-uncased were not used when initializing BertModel: ['cls.predictions.transform.LayerNorm.weight', 'cls.predictions.transform.dense.weight', 'cls.predictions.transform.LayerNorm.bias', 'cls.predictions.transform.dense.bias', 'cls.seq_relationship.bias', 'cls.predictions.bias', 'cls.seq_relationship.weight', 'cls.predictions.decoder.weight']\n",
            "- This IS expected if you are initializing BertModel from the checkpoint of a model trained on another task or with another architecture (e.g. initializing a BertForSequenceClassification model from a BertForPreTraining model).\n",
            "- This IS NOT expected if you are initializing BertModel from the checkpoint of a model that you expect to be exactly identical (initializing a BertForSequenceClassification model from a BertForSequenceClassification model).\n"
          ]
        }
      ],
      "source": [
        "# reload best model \n",
        "if MODEL_NAME == 'bert-base-uncased':\n",
        "    model = BERTClass(MODEL_NAME) if \"distilbert\" not in MODEL_NAME else DistilbertClass(MODEL_NAME)\n",
        "    model.load_state_dict(torch.load(best_weights_bert_base))\n",
        "    model = model.to(device)"
      ]
    },
    {
      "cell_type": "markdown",
      "metadata": {
        "id": "2DOJmHwHGQq7"
      },
      "source": [
        "<a id='section07'></a>\n",
        "### Evaluating the best model\n",
        "To get a measure of our model performance we are mainly taking into account\n",
        "the F1 Macro score since is the best indicator in case of unbalanced classes as the current case."
      ]
    },
    {
      "cell_type": "code",
      "execution_count": 233,
      "metadata": {
        "id": "wLm-bjZAbDCN"
      },
      "outputs": [],
      "source": [
        "if MODEL_NAME == 'bert-base-uncased':\n",
        "    outputs, targets = test()"
      ]
    },
    {
      "cell_type": "markdown",
      "metadata": {
        "id": "SU4WgzkXi3hq"
      },
      "source": [
        "<a id='section08'></a>\n",
        "### Choosing the best threshold\n",
        "Since the outoput scores are probabilities values in the range [0,1] we need to define the best threshold to approximate each score either to 0 or to 1. \n",
        "To do that, we considered all possible threshold values between 0.1 and 0.85 with steps of 0.05 such that: all the values higher than or equal to the threshold are approximated to 1, otherwise to 0.\n",
        "Finally, we take the threshold value which gave us the highest F1 score."
      ]
    },
    {
      "cell_type": "code",
      "execution_count": 234,
      "metadata": {
        "colab": {
          "base_uri": "https://localhost:8080/"
        },
        "id": "WN3WxQ9hdFGY",
        "outputId": "bf3a7e8d-baec-418a-b229-60772ed78116"
      },
      "outputs": [
        {
          "output_type": "stream",
          "name": "stdout",
          "text": [
            "THRESHOLD: 0.10  F1 score: 0.405\n",
            "THRESHOLD: 0.15  F1 score: 0.419\n",
            "THRESHOLD: 0.20  F1 score: 0.419\n",
            "THRESHOLD: 0.25  F1 score: 0.408\n",
            "THRESHOLD: 0.30  F1 score: 0.403\n",
            "THRESHOLD: 0.35  F1 score: 0.389\n",
            "THRESHOLD: 0.40  F1 score: 0.373\n",
            "THRESHOLD: 0.45  F1 score: 0.352\n",
            "THRESHOLD: 0.50  F1 score: 0.331\n",
            "THRESHOLD: 0.55  F1 score: 0.317\n",
            "THRESHOLD: 0.60  F1 score: 0.297\n",
            "THRESHOLD: 0.65  F1 score: 0.278\n",
            "THRESHOLD: 0.70  F1 score: 0.256\n",
            "THRESHOLD: 0.75  F1 score: 0.227\n",
            "THRESHOLD: 0.80  F1 score: 0.198\n",
            "THRESHOLD: 0.85  F1 score: 0.166\n"
          ]
        }
      ],
      "source": [
        "if MODEL_NAME == 'bert-base-uncased':\n",
        "    results = {}\n",
        "    for tr in np.arange(0.1, 0.9, 0.05):\n",
        "        tr = round(tr,2)\n",
        "        predictions = np.array(outputs) >= tr\n",
        "        f1 = f1_score(targets, predictions, average = \"macro\", zero_division = 1)\n",
        "        results[tr] = f1\n",
        "\n",
        "    for k,v in results.items():\n",
        "        print(\"THRESHOLD: {:.2f} \".format(k), \"F1 score: {:.3f}\".format(v))"
      ]
    },
    {
      "cell_type": "code",
      "execution_count": 235,
      "metadata": {
        "colab": {
          "base_uri": "https://localhost:8080/"
        },
        "id": "OalMtIzvmY53",
        "outputId": "0131ed81-2aa2-47e9-f7a5-162081f87165"
      },
      "outputs": [
        {
          "output_type": "stream",
          "name": "stdout",
          "text": [
            "BEST THRESHOLD: 0.2 with F1 score: 0.42\n"
          ]
        }
      ],
      "source": [
        "if MODEL_NAME == 'bert-base-uncased':\n",
        "    THRESHOLD = max(results, key = results.get)\n",
        "    print(\"BEST THRESHOLD:\", THRESHOLD , \"with F1 score: {:.2f}\".format(max(results.values())))"
      ]
    },
    {
      "cell_type": "markdown",
      "metadata": {
        "id": "Dtjs2xlEnZPV"
      },
      "source": [
        "<a id='section09'></a>\n",
        "### Classification Report"
      ]
    },
    {
      "cell_type": "code",
      "execution_count": 45,
      "metadata": {
        "colab": {
          "base_uri": "https://localhost:8080/"
        },
        "id": "NRLbWbpZoy6W",
        "outputId": "2e586a3d-5ce1-4436-92f1-9c05868522f0"
      },
      "outputs": [
        {
          "output_type": "stream",
          "name": "stdout",
          "text": [
            "                            precision    recall  f1-score   support\n",
            "\n",
            "   Self-direction: thought       0.38      0.71      0.50       251\n",
            "    Self-direction: action       0.43      0.67      0.53       496\n",
            "               Stimulation       0.34      0.20      0.25       138\n",
            "                  Hedonism       0.39      0.36      0.37       103\n",
            "               Achievement       0.51      0.82      0.63       575\n",
            "          Power: dominance       0.29      0.35      0.32       164\n",
            "          Power: resources       0.45      0.39      0.42       132\n",
            "                      Face       0.19      0.08      0.12       130\n",
            "        Security: personal       0.57      0.90      0.70       759\n",
            "        Security: societal       0.42      0.84      0.56       488\n",
            "                 Tradition       0.39      0.47      0.43       172\n",
            "         Conformity: rules       0.41      0.80      0.54       455\n",
            " Conformity: interpersonal       0.24      0.08      0.12        60\n",
            "                  Humility       0.22      0.07      0.11       127\n",
            "       Benevolence: caring       0.47      0.71      0.57       633\n",
            "Benevolence: dependability       0.21      0.62      0.31       268\n",
            "     Universalism: concern       0.57      0.71      0.63       687\n",
            "      Universalism: nature       0.70      0.57      0.63       127\n",
            "   Universalism: tolerance       0.25      0.17      0.20       223\n",
            " Universalism: objectivity       0.32      0.73      0.44       371\n",
            "\n",
            "                 micro avg       0.43      0.66      0.52      6359\n",
            "                 macro avg       0.39      0.51      0.42      6359\n",
            "              weighted avg       0.44      0.66      0.51      6359\n",
            "               samples avg       0.45      0.70      0.52      6359\n",
            "\n"
          ]
        }
      ],
      "source": [
        "if MODEL_NAME == 'bert-base-uncased':\n",
        "    predictions = np.array(outputs) >= THRESHOLD\n",
        "    labels = labels_test.columns[1:]\n",
        "    print(classification_report(targets,predictions, target_names = labels, zero_division=1))"
      ]
    },
    {
      "cell_type": "markdown",
      "metadata": {
        "id": "FjzJ-MSjKAs7"
      },
      "source": [
        "## BERT LARGE"
      ]
    },
    {
      "cell_type": "code",
      "execution_count": 198,
      "metadata": {
        "id": "f2Eek5uZK-FV"
      },
      "outputs": [],
      "source": [
        "# reload best model \n",
        "if MODEL_NAME == 'bert-large-uncased':\n",
        "    model = BERTClass(MODEL_NAME) if \"distilbert\" not in MODEL_NAME else DistilbertClass(MODEL_NAME)\n",
        "    model.load_state_dict(torch.load(best_weights_bert_large))\n",
        "    model = model.to(device)"
      ]
    },
    {
      "cell_type": "code",
      "execution_count": 56,
      "metadata": {
        "id": "io2pWLj3LCcN"
      },
      "outputs": [],
      "source": [
        "if MODEL_NAME == 'bert-large-uncased':\n",
        "    outputs, targets = test()"
      ]
    },
    {
      "cell_type": "code",
      "execution_count": 57,
      "metadata": {
        "colab": {
          "base_uri": "https://localhost:8080/"
        },
        "id": "KmizpgxFLFba",
        "outputId": "cb89f652-298d-4025-ed52-74f2890797c7"
      },
      "outputs": [
        {
          "output_type": "stream",
          "name": "stdout",
          "text": [
            "THRESHOLD: 0.10  F1 score: 0.420\n",
            "THRESHOLD: 0.15  F1 score: 0.436\n",
            "THRESHOLD: 0.20  F1 score: 0.436\n",
            "THRESHOLD: 0.25  F1 score: 0.418\n",
            "THRESHOLD: 0.30  F1 score: 0.404\n",
            "THRESHOLD: 0.35  F1 score: 0.381\n",
            "THRESHOLD: 0.40  F1 score: 0.363\n",
            "THRESHOLD: 0.45  F1 score: 0.342\n",
            "THRESHOLD: 0.50  F1 score: 0.325\n",
            "THRESHOLD: 0.55  F1 score: 0.303\n",
            "THRESHOLD: 0.60  F1 score: 0.287\n",
            "THRESHOLD: 0.65  F1 score: 0.257\n",
            "THRESHOLD: 0.70  F1 score: 0.235\n",
            "THRESHOLD: 0.75  F1 score: 0.209\n",
            "THRESHOLD: 0.80  F1 score: 0.179\n",
            "THRESHOLD: 0.85  F1 score: 0.139\n"
          ]
        }
      ],
      "source": [
        "if MODEL_NAME == 'bert-large-uncased':\n",
        "    results = {}\n",
        "    for tr in np.arange(0.1, 0.9, 0.05):\n",
        "        tr = round(tr,2)\n",
        "        predictions = np.array(outputs) >= tr\n",
        "        f1 = f1_score(targets, predictions, average = \"macro\", zero_division = 1)\n",
        "        results[tr] = f1\n",
        "\n",
        "    for k,v in results.items():\n",
        "        print(\"THRESHOLD: {:.2f} \".format(k), \"F1 score: {:.3f}\".format(v))"
      ]
    },
    {
      "cell_type": "code",
      "execution_count": 58,
      "metadata": {
        "colab": {
          "base_uri": "https://localhost:8080/"
        },
        "id": "XHez7WI6LMDm",
        "outputId": "611d4417-ed72-44a2-a9a2-39b7d847b7eb"
      },
      "outputs": [
        {
          "output_type": "stream",
          "name": "stdout",
          "text": [
            "BEST THRESHOLD: 0.15 with F1 score: 0.44\n"
          ]
        }
      ],
      "source": [
        "if MODEL_NAME == 'bert-large-uncased':\n",
        "    THRESHOLD = max(results, key = results.get)\n",
        "    print(\"BEST THRESHOLD:\", THRESHOLD , \"with F1 score: {:.2f}\".format(max(results.values())))"
      ]
    },
    {
      "cell_type": "code",
      "execution_count": 59,
      "metadata": {
        "colab": {
          "base_uri": "https://localhost:8080/"
        },
        "id": "8t1EB259RRCW",
        "outputId": "1ac678b3-327d-42b6-d6a3-c42b9a0ce0c9"
      },
      "outputs": [
        {
          "output_type": "stream",
          "name": "stdout",
          "text": [
            "                            precision    recall  f1-score   support\n",
            "\n",
            "   Self-direction: thought       0.30      0.77      0.43       251\n",
            "    Self-direction: action       0.37      0.86      0.51       496\n",
            "               Stimulation       0.27      0.28      0.28       138\n",
            "                  Hedonism       0.46      0.30      0.36       103\n",
            "               Achievement       0.55      0.75      0.64       575\n",
            "          Power: dominance       0.32      0.40      0.35       164\n",
            "          Power: resources       0.47      0.48      0.48       132\n",
            "                      Face       0.24      0.29      0.26       130\n",
            "        Security: personal       0.53      0.92      0.67       759\n",
            "        Security: societal       0.37      0.92      0.53       488\n",
            "                 Tradition       0.29      0.59      0.39       172\n",
            "         Conformity: rules       0.38      0.87      0.53       455\n",
            " Conformity: interpersonal       0.38      0.25      0.30        60\n",
            "                  Humility       0.24      0.09      0.13       127\n",
            "       Benevolence: caring       0.46      0.78      0.58       633\n",
            "Benevolence: dependability       0.21      0.77      0.33       268\n",
            "     Universalism: concern       0.45      0.91      0.60       687\n",
            "      Universalism: nature       0.75      0.65      0.70       127\n",
            "   Universalism: tolerance       0.20      0.28      0.24       223\n",
            " Universalism: objectivity       0.28      0.81      0.42       371\n",
            "\n",
            "                 micro avg       0.39      0.74      0.51      6359\n",
            "                 macro avg       0.38      0.60      0.44      6359\n",
            "              weighted avg       0.40      0.74      0.51      6359\n",
            "               samples avg       0.40      0.78      0.50      6359\n",
            "\n"
          ]
        }
      ],
      "source": [
        "if MODEL_NAME == 'bert-large-uncased':\n",
        "    predictions = np.array(outputs) >= THRESHOLD\n",
        "    labels = labels_test.columns[1:]\n",
        "    print(classification_report( targets,predictions, target_names = labels, zero_division=1))"
      ]
    },
    {
      "cell_type": "markdown",
      "metadata": {
        "id": "92PhwOEOL9YW"
      },
      "source": [
        "## ROBERTA BASE "
      ]
    },
    {
      "cell_type": "code",
      "execution_count": 83,
      "metadata": {
        "colab": {
          "base_uri": "https://localhost:8080/"
        },
        "id": "3971TZnuMC8X",
        "outputId": "904d1162-d5f7-402d-f191-1fdebc239ddb"
      },
      "outputs": [
        {
          "output_type": "stream",
          "name": "stderr",
          "text": [
            "Some weights of the model checkpoint at roberta-base were not used when initializing RobertaModel: ['lm_head.bias', 'lm_head.decoder.weight', 'lm_head.layer_norm.bias', 'lm_head.dense.weight', 'lm_head.dense.bias', 'lm_head.layer_norm.weight']\n",
            "- This IS expected if you are initializing RobertaModel from the checkpoint of a model trained on another task or with another architecture (e.g. initializing a BertForSequenceClassification model from a BertForPreTraining model).\n",
            "- This IS NOT expected if you are initializing RobertaModel from the checkpoint of a model that you expect to be exactly identical (initializing a BertForSequenceClassification model from a BertForSequenceClassification model).\n"
          ]
        }
      ],
      "source": [
        "# reload best model \n",
        "if MODEL_NAME == 'roberta-base':\n",
        "    model = BERTClass(MODEL_NAME) if \"distilbert\" not in MODEL_NAME else DistilbertClass(MODEL_NAME)\n",
        "    model.load_state_dict(torch.load(best_weights_roberta_base))\n",
        "    model = model.to(device)"
      ]
    },
    {
      "cell_type": "code",
      "execution_count": 84,
      "metadata": {
        "id": "xpKgPUiJMD87"
      },
      "outputs": [],
      "source": [
        "if MODEL_NAME == 'roberta-base':\n",
        "    outputs, targets = test()"
      ]
    },
    {
      "cell_type": "code",
      "execution_count": 85,
      "metadata": {
        "colab": {
          "base_uri": "https://localhost:8080/"
        },
        "id": "GkX2amJNMF1f",
        "outputId": "46743aa0-e638-4fa6-d910-bec738367d0e"
      },
      "outputs": [
        {
          "output_type": "stream",
          "name": "stdout",
          "text": [
            "THRESHOLD: 0.10  F1 score: 0.450\n",
            "THRESHOLD: 0.15  F1 score: 0.474\n",
            "THRESHOLD: 0.20  F1 score: 0.472\n",
            "THRESHOLD: 0.25  F1 score: 0.460\n",
            "THRESHOLD: 0.30  F1 score: 0.442\n",
            "THRESHOLD: 0.35  F1 score: 0.428\n",
            "THRESHOLD: 0.40  F1 score: 0.413\n",
            "THRESHOLD: 0.45  F1 score: 0.399\n",
            "THRESHOLD: 0.50  F1 score: 0.383\n",
            "THRESHOLD: 0.55  F1 score: 0.370\n",
            "THRESHOLD: 0.60  F1 score: 0.359\n",
            "THRESHOLD: 0.65  F1 score: 0.343\n",
            "THRESHOLD: 0.70  F1 score: 0.323\n",
            "THRESHOLD: 0.75  F1 score: 0.306\n",
            "THRESHOLD: 0.80  F1 score: 0.283\n",
            "THRESHOLD: 0.85  F1 score: 0.253\n"
          ]
        }
      ],
      "source": [
        "if MODEL_NAME == 'roberta-base':\n",
        "    results = {}\n",
        "    for tr in np.arange(0.1, 0.9, 0.05):\n",
        "        tr = round(tr,2)\n",
        "        predictions = np.array(outputs) >= tr\n",
        "        f1 = f1_score(targets, predictions, average = \"macro\", zero_division = 1)\n",
        "        results[tr] = f1\n",
        "\n",
        "    for k,v in results.items():\n",
        "        print(\"THRESHOLD: {:.2f} \".format(k), \"F1 score: {:.3f}\".format(v))"
      ]
    },
    {
      "cell_type": "code",
      "execution_count": 86,
      "metadata": {
        "colab": {
          "base_uri": "https://localhost:8080/"
        },
        "id": "h8u-WFKZMIAT",
        "outputId": "abdd67ba-ae3b-4e10-9706-b1b4bd72dfde"
      },
      "outputs": [
        {
          "output_type": "stream",
          "name": "stdout",
          "text": [
            "BEST THRESHOLD: 0.15 with F1 score: 0.47\n"
          ]
        }
      ],
      "source": [
        "if MODEL_NAME == 'roberta-base':\n",
        "    THRESHOLD = max(results, key = results.get)\n",
        "    print(\"BEST THRESHOLD:\", THRESHOLD , \"with F1 score: {:.2f}\".format(max(results.values())))"
      ]
    },
    {
      "cell_type": "code",
      "execution_count": 87,
      "metadata": {
        "colab": {
          "base_uri": "https://localhost:8080/"
        },
        "id": "X_8XT4hURTDQ",
        "outputId": "6c7b7ec8-8885-4646-d063-c39df6067418"
      },
      "outputs": [
        {
          "output_type": "stream",
          "name": "stdout",
          "text": [
            "                            precision    recall  f1-score   support\n",
            "\n",
            "   Self-direction: thought       0.36      0.75      0.49       251\n",
            "    Self-direction: action       0.46      0.73      0.56       496\n",
            "               Stimulation       0.38      0.26      0.31       138\n",
            "                  Hedonism       0.46      0.35      0.40       103\n",
            "               Achievement       0.52      0.81      0.63       575\n",
            "          Power: dominance       0.27      0.39      0.32       164\n",
            "          Power: resources       0.35      0.68      0.46       132\n",
            "                      Face       0.30      0.32      0.31       130\n",
            "        Security: personal       0.58      0.93      0.71       759\n",
            "        Security: societal       0.50      0.80      0.61       488\n",
            "                 Tradition       0.42      0.47      0.44       172\n",
            "         Conformity: rules       0.48      0.72      0.58       455\n",
            " Conformity: interpersonal       0.40      0.27      0.32        60\n",
            "                  Humility       0.15      0.21      0.18       127\n",
            "       Benevolence: caring       0.44      0.83      0.58       633\n",
            "Benevolence: dependability       0.25      0.61      0.35       268\n",
            "     Universalism: concern       0.52      0.87      0.66       687\n",
            "      Universalism: nature       0.72      0.76      0.74       127\n",
            "   Universalism: tolerance       0.30      0.37      0.33       223\n",
            " Universalism: objectivity       0.39      0.69      0.50       371\n",
            "\n",
            "                 micro avg       0.45      0.72      0.55      6359\n",
            "                 macro avg       0.41      0.59      0.47      6359\n",
            "              weighted avg       0.45      0.72      0.55      6359\n",
            "               samples avg       0.47      0.76      0.55      6359\n",
            "\n"
          ]
        }
      ],
      "source": [
        "if MODEL_NAME == 'roberta-base':\n",
        "    predictions = np.array(outputs) >= THRESHOLD\n",
        "    labels = labels_test.columns[1:]\n",
        "    print(classification_report( targets,predictions, target_names = labels, zero_division=1))"
      ]
    },
    {
      "cell_type": "markdown",
      "metadata": {
        "id": "8sdEprw1NBhz"
      },
      "source": [
        "## ROBERTA LARGE"
      ]
    },
    {
      "cell_type": "code",
      "execution_count": 70,
      "metadata": {
        "colab": {
          "base_uri": "https://localhost:8080/"
        },
        "id": "ccFOmpDWNFtQ",
        "outputId": "a2ccbb5b-a5a5-424c-e1e5-3d13a1842e1f"
      },
      "outputs": [
        {
          "output_type": "stream",
          "name": "stderr",
          "text": [
            "Some weights of the model checkpoint at roberta-large were not used when initializing RobertaModel: ['lm_head.bias', 'lm_head.decoder.weight', 'lm_head.dense.weight', 'lm_head.layer_norm.bias', 'lm_head.dense.bias', 'lm_head.layer_norm.weight']\n",
            "- This IS expected if you are initializing RobertaModel from the checkpoint of a model trained on another task or with another architecture (e.g. initializing a BertForSequenceClassification model from a BertForPreTraining model).\n",
            "- This IS NOT expected if you are initializing RobertaModel from the checkpoint of a model that you expect to be exactly identical (initializing a BertForSequenceClassification model from a BertForSequenceClassification model).\n"
          ]
        }
      ],
      "source": [
        "# reload best model \n",
        "if MODEL_NAME == 'roberta-large':\n",
        "    model = BERTClass(MODEL_NAME) if \"distilbert\" not in MODEL_NAME else DistilbertClass(MODEL_NAME)\n",
        "    model.load_state_dict(torch.load(best_weights_roberta_large))\n",
        "    model = model.to(device)"
      ]
    },
    {
      "cell_type": "code",
      "execution_count": 71,
      "metadata": {
        "id": "HrseZYoxNGfh"
      },
      "outputs": [],
      "source": [
        "if MODEL_NAME == 'roberta-large':\n",
        "    outputs, targets = test()"
      ]
    },
    {
      "cell_type": "code",
      "execution_count": 72,
      "metadata": {
        "colab": {
          "base_uri": "https://localhost:8080/"
        },
        "id": "_tqfApYSNIhM",
        "outputId": "c30f7868-cf76-4876-f26a-490e77d345ab"
      },
      "outputs": [
        {
          "output_type": "stream",
          "name": "stdout",
          "text": [
            "THRESHOLD: 0.10  F1 score: 0.479\n",
            "THRESHOLD: 0.15  F1 score: 0.501\n",
            "THRESHOLD: 0.20  F1 score: 0.504\n",
            "THRESHOLD: 0.25  F1 score: 0.500\n",
            "THRESHOLD: 0.30  F1 score: 0.488\n",
            "THRESHOLD: 0.35  F1 score: 0.472\n",
            "THRESHOLD: 0.40  F1 score: 0.457\n",
            "THRESHOLD: 0.45  F1 score: 0.444\n",
            "THRESHOLD: 0.50  F1 score: 0.433\n",
            "THRESHOLD: 0.55  F1 score: 0.412\n",
            "THRESHOLD: 0.60  F1 score: 0.394\n",
            "THRESHOLD: 0.65  F1 score: 0.378\n",
            "THRESHOLD: 0.70  F1 score: 0.350\n",
            "THRESHOLD: 0.75  F1 score: 0.323\n",
            "THRESHOLD: 0.80  F1 score: 0.294\n",
            "THRESHOLD: 0.85  F1 score: 0.260\n"
          ]
        }
      ],
      "source": [
        "if MODEL_NAME == 'roberta-large':\n",
        "    results = {}\n",
        "    for tr in np.arange(0.1, 0.9, 0.05):\n",
        "        tr = round(tr,2)\n",
        "        predictions = np.array(outputs) >= tr\n",
        "        f1 = f1_score(targets, predictions, average = \"macro\", zero_division = 1)\n",
        "        results[tr] = f1\n",
        "\n",
        "    for k,v in results.items():\n",
        "        print(\"THRESHOLD: {:.2f} \".format(k), \"F1 score: {:.3f}\".format(v))"
      ]
    },
    {
      "cell_type": "code",
      "execution_count": 73,
      "metadata": {
        "colab": {
          "base_uri": "https://localhost:8080/"
        },
        "id": "Wb6gOU8fNK0V",
        "outputId": "f9de1fbe-e388-4b13-cd20-d0a05b4cd620"
      },
      "outputs": [
        {
          "output_type": "stream",
          "name": "stdout",
          "text": [
            "BEST THRESHOLD: 0.2 with F1 score: 0.50\n"
          ]
        }
      ],
      "source": [
        "if MODEL_NAME == 'roberta-large':\n",
        "    THRESHOLD = max(results, key = results.get)\n",
        "    print(\"BEST THRESHOLD:\", THRESHOLD , \"with F1 score: {:.2f}\".format(max(results.values())))"
      ]
    },
    {
      "cell_type": "code",
      "execution_count": 74,
      "metadata": {
        "colab": {
          "base_uri": "https://localhost:8080/"
        },
        "id": "QLgyUXd9RUPj",
        "outputId": "03c408b6-fe3e-4b61-ecee-358c4a6c183e"
      },
      "outputs": [
        {
          "output_type": "stream",
          "name": "stdout",
          "text": [
            "                            precision    recall  f1-score   support\n",
            "\n",
            "   Self-direction: thought       0.44      0.70      0.54       251\n",
            "    Self-direction: action       0.53      0.69      0.60       496\n",
            "               Stimulation       0.51      0.28      0.36       138\n",
            "                  Hedonism       0.50      0.42      0.46       103\n",
            "               Achievement       0.55      0.83      0.66       575\n",
            "          Power: dominance       0.37      0.38      0.37       164\n",
            "          Power: resources       0.42      0.61      0.50       132\n",
            "                      Face       0.36      0.22      0.27       130\n",
            "        Security: personal       0.61      0.90      0.73       759\n",
            "        Security: societal       0.57      0.75      0.65       488\n",
            "                 Tradition       0.55      0.41      0.47       172\n",
            "         Conformity: rules       0.56      0.73      0.64       455\n",
            " Conformity: interpersonal       0.54      0.35      0.42        60\n",
            "                  Humility       0.23      0.13      0.16       127\n",
            "       Benevolence: caring       0.49      0.76      0.59       633\n",
            "Benevolence: dependability       0.30      0.50      0.37       268\n",
            "     Universalism: concern       0.58      0.86      0.69       687\n",
            "      Universalism: nature       0.74      0.73      0.74       127\n",
            "   Universalism: tolerance       0.35      0.36      0.36       223\n",
            " Universalism: objectivity       0.40      0.66      0.50       371\n",
            "\n",
            "                 micro avg       0.51      0.69      0.59      6359\n",
            "                 macro avg       0.48      0.56      0.50      6359\n",
            "              weighted avg       0.51      0.69      0.58      6359\n",
            "               samples avg       0.54      0.73      0.59      6359\n",
            "\n"
          ]
        }
      ],
      "source": [
        "if MODEL_NAME == 'roberta-large':\n",
        "    predictions = np.array(outputs) >= THRESHOLD\n",
        "    labels = labels_test.columns[1:]\n",
        "    print(classification_report( targets,predictions, target_names = labels, zero_division=1))"
      ]
    },
    {
      "cell_type": "markdown",
      "metadata": {
        "id": "B2LJh7_3QC4A"
      },
      "source": [
        "## DISTILBERT"
      ]
    },
    {
      "cell_type": "code",
      "execution_count": 23,
      "metadata": {
        "colab": {
          "base_uri": "https://localhost:8080/"
        },
        "id": "rfUGx_e-PtMh",
        "outputId": "604eb023-de99-48d2-9af0-619968dbda17"
      },
      "outputs": [
        {
          "output_type": "stream",
          "name": "stderr",
          "text": [
            "Some weights of the model checkpoint at distilbert-base-uncased were not used when initializing DistilBertModel: ['vocab_projector.weight', 'vocab_transform.weight', 'vocab_layer_norm.bias', 'vocab_projector.bias', 'vocab_layer_norm.weight', 'vocab_transform.bias']\n",
            "- This IS expected if you are initializing DistilBertModel from the checkpoint of a model trained on another task or with another architecture (e.g. initializing a BertForSequenceClassification model from a BertForPreTraining model).\n",
            "- This IS NOT expected if you are initializing DistilBertModel from the checkpoint of a model that you expect to be exactly identical (initializing a BertForSequenceClassification model from a BertForSequenceClassification model).\n"
          ]
        }
      ],
      "source": [
        "# reload best model \n",
        "if MODEL_NAME == 'distilbert-base-uncased':\n",
        "    model = BERTClass(MODEL_NAME) if \"distilbert\" not in MODEL_NAME else DistilbertClass(MODEL_NAME)\n",
        "    model.load_state_dict(torch.load(best_weights_distilbert))\n",
        "    model = model.to(device)"
      ]
    },
    {
      "cell_type": "code",
      "execution_count": 24,
      "metadata": {
        "id": "Iw-bz29NPvci"
      },
      "outputs": [],
      "source": [
        "if MODEL_NAME == 'distilbert-base-uncased':\n",
        "    outputs, targets = test()"
      ]
    },
    {
      "cell_type": "code",
      "execution_count": 25,
      "metadata": {
        "id": "p3RWjsiqPysE",
        "colab": {
          "base_uri": "https://localhost:8080/"
        },
        "outputId": "131fef86-4616-451a-9ac6-ff812842035e"
      },
      "outputs": [
        {
          "output_type": "stream",
          "name": "stdout",
          "text": [
            "THRESHOLD: 0.10  F1 score: 0.416\n",
            "THRESHOLD: 0.15  F1 score: 0.428\n",
            "THRESHOLD: 0.20  F1 score: 0.423\n",
            "THRESHOLD: 0.25  F1 score: 0.408\n",
            "THRESHOLD: 0.30  F1 score: 0.395\n",
            "THRESHOLD: 0.35  F1 score: 0.381\n",
            "THRESHOLD: 0.40  F1 score: 0.369\n",
            "THRESHOLD: 0.45  F1 score: 0.357\n",
            "THRESHOLD: 0.50  F1 score: 0.336\n",
            "THRESHOLD: 0.55  F1 score: 0.313\n",
            "THRESHOLD: 0.60  F1 score: 0.290\n",
            "THRESHOLD: 0.65  F1 score: 0.268\n",
            "THRESHOLD: 0.70  F1 score: 0.242\n",
            "THRESHOLD: 0.75  F1 score: 0.217\n",
            "THRESHOLD: 0.80  F1 score: 0.190\n",
            "THRESHOLD: 0.85  F1 score: 0.155\n"
          ]
        }
      ],
      "source": [
        "if MODEL_NAME == 'distilbert-base-uncased':\n",
        "    results = {}\n",
        "    for tr in np.arange(0.1, 0.9, 0.05):\n",
        "        tr = round(tr,2)\n",
        "        predictions = np.array(outputs) >= tr\n",
        "        f1 = f1_score(targets, predictions, average = \"macro\", zero_division = 1)\n",
        "        results[tr] = f1\n",
        "\n",
        "    for k,v in results.items():\n",
        "        print(\"THRESHOLD: {:.2f} \".format(k), \"F1 score: {:.3f}\".format(v))"
      ]
    },
    {
      "cell_type": "code",
      "execution_count": 26,
      "metadata": {
        "id": "_rGi_OmMPzU-",
        "colab": {
          "base_uri": "https://localhost:8080/"
        },
        "outputId": "25ea44c1-5d3a-4d45-80ec-c06bd07a2bf7"
      },
      "outputs": [
        {
          "output_type": "stream",
          "name": "stdout",
          "text": [
            "BEST THRESHOLD: 0.15 with F1 score: 0.43\n"
          ]
        }
      ],
      "source": [
        "if MODEL_NAME == 'distilbert-base-uncased':\n",
        "    THRESHOLD = max(results, key = results.get)\n",
        "    print(\"BEST THRESHOLD:\", THRESHOLD , \"with F1 score: {:.2f}\".format(max(results.values())))"
      ]
    },
    {
      "cell_type": "code",
      "execution_count": 27,
      "metadata": {
        "colab": {
          "base_uri": "https://localhost:8080/"
        },
        "id": "oXoEkHHPRVUl",
        "outputId": "bac33fe8-e9ce-4e6f-a4ed-4888a34917cf"
      },
      "outputs": [
        {
          "output_type": "stream",
          "name": "stdout",
          "text": [
            "                            precision    recall  f1-score   support\n",
            "\n",
            "   Self-direction: thought       0.34      0.66      0.45       251\n",
            "    Self-direction: action       0.39      0.74      0.51       496\n",
            "               Stimulation       0.31      0.17      0.22       138\n",
            "                  Hedonism       0.46      0.31      0.37       103\n",
            "               Achievement       0.47      0.82      0.60       575\n",
            "          Power: dominance       0.32      0.32      0.32       164\n",
            "          Power: resources       0.39      0.70      0.50       132\n",
            "                      Face       0.25      0.25      0.25       130\n",
            "        Security: personal       0.60      0.89      0.71       759\n",
            "        Security: societal       0.47      0.76      0.58       488\n",
            "                 Tradition       0.42      0.42      0.42       172\n",
            "         Conformity: rules       0.37      0.85      0.51       455\n",
            " Conformity: interpersonal       0.21      0.23      0.22        60\n",
            "                  Humility       0.24      0.07      0.11       127\n",
            "       Benevolence: caring       0.43      0.84      0.57       633\n",
            "Benevolence: dependability       0.19      0.69      0.30       268\n",
            "     Universalism: concern       0.45      0.94      0.61       687\n",
            "      Universalism: nature       0.61      0.70      0.65       127\n",
            "   Universalism: tolerance       0.24      0.18      0.21       223\n",
            " Universalism: objectivity       0.31      0.79      0.44       371\n",
            "\n",
            "                 micro avg       0.40      0.72      0.52      6359\n",
            "                 macro avg       0.37      0.57      0.43      6359\n",
            "              weighted avg       0.41      0.72      0.51      6359\n",
            "               samples avg       0.42      0.75      0.51      6359\n",
            "\n"
          ]
        }
      ],
      "source": [
        "if MODEL_NAME == 'distilbert-base-uncased':\n",
        "    predictions = np.array(outputs) >= THRESHOLD\n",
        "    labels = labels_test.columns[1:]\n",
        "    print(classification_report( targets,predictions, target_names = labels, zero_division=1))"
      ]
    },
    {
      "cell_type": "markdown",
      "metadata": {
        "id": "D4f8yN9tQIiD"
      },
      "source": [
        "# Error Analysis"
      ]
    },
    {
      "cell_type": "markdown",
      "metadata": {
        "id": "0oeKxMKwSbTU"
      },
      "source": [
        "As a premise for the error analysis, we first want to make sure that our choice for tokenizer model max length is reasonable. Here we calculate the percentile where we find our choice:"
      ]
    },
    {
      "cell_type": "code",
      "execution_count": null,
      "metadata": {
        "colab": {
          "base_uri": "https://localhost:8080/"
        },
        "id": "4AxeE5qPSaeU",
        "outputId": "339c42a6-e216-46b6-aa40-3ff6ed8e520b"
      },
      "outputs": [
        {
          "name": "stdout",
          "output_type": "stream",
          "text": [
            "97.83755274261604\n"
          ]
        }
      ],
      "source": [
        "from scipy.stats import percentileofscore\n",
        "\n",
        "lens = []\n",
        "for s in df_test['text']:\n",
        "  lens.append(len(s.split(' ')))\n",
        "\n",
        "percentile_of = percentileofscore(lens, 75)\n",
        "print(percentile_of)"
      ]
    },
    {
      "cell_type": "markdown",
      "metadata": {
        "id": "PCE66gmzQLAV"
      },
      "source": [
        "Having roughly 97% of our sentences shorter than 75 words, we believe 75 to be a reasonable max tokenizer length.\n",
        "\n",
        "---\n",
        "\n",
        "We choose to carry out error analysis on roberta-large. This is the model that performed better compared to the other bert/roberta models. Specifically, we want to know which classes have been confused with other classes and how frequently. To do this, we are going to use a Multi Label Confusion Matrix, rendered with seaborn's heatmap.\n",
        "\n"
      ]
    },
    {
      "cell_type": "code",
      "execution_count": null,
      "metadata": {
        "colab": {
          "base_uri": "https://localhost:8080/",
          "height": 1000
        },
        "id": "bcTUptLhQJtr",
        "outputId": "1c316fa2-3f3f-49d6-9a51-b75b4f53803c"
      },
      "outputs": [
        {
          "name": "stdout",
          "output_type": "stream",
          "text": [
            "MLCM has one extra row (NTL) and one extra column (NPL).        \n",
            "Please read the following paper for more information:\n",
            "        Heydarian et al., MLCM: Multi-Label Confusion Matrix, IEEE Access,2022        \n",
            "To skip this message, please add parameter \"print_note=False\"\n",
            "        e.g., conf_mat,normal_conf_mat = mlcm.cm(label_true,label_pred,False)\n"
          ]
        },
        {
          "data": {
            "text/plain": [
              "<matplotlib.axes._subplots.AxesSubplot at 0x7fb6162117f0>"
            ]
          },
          "execution_count": 30,
          "metadata": {},
          "output_type": "execute_result"
        },
        {
          "data": {
            "image/png": "[encoded data removed]",
            "text/plain": [
              "<Figure size 1440x1008 with 2 Axes>"
            ]
          },
          "metadata": {
            "needs_background": "light"
          },
          "output_type": "display_data"
        }
      ],
      "source": [
        "from mlcm import mlcm\n",
        "import seaborn as sn\n",
        "import matplotlib.pyplot as plt\n",
        "\n",
        "conf_mat,normal_conf_mat = mlcm.cm(predictions,targets)\n",
        "df_cm = pd.DataFrame(conf_mat, index = [i for i in labels.append(pd.Index(['noclass']))],\n",
        "                  columns = [i for i in labels.append(pd.Index(['noclass']))])\n",
        "plt.figure(figsize = (20,14))\n",
        "sn.heatmap(df_cm, annot=True)"
      ]
    }
  ],
  "metadata": {
    "accelerator": "GPU",
    "colab": {
      "provenance": []
    },
    "kernelspec": {
      "display_name": "Python 3",
      "language": "python",
      "name": "python3"
    },
    "language_info": {
      "codemirror_mode": {
        "name": "ipython",
        "version": 3
      },
      "file_extension": ".py",
      "mimetype": "text/x-python",
      "name": "python",
      "nbconvert_exporter": "python",
      "pygments_lexer": "ipython3",
      "version": "3.8.8"
    }
  },
  "nbformat": 4,
  "nbformat_minor": 0
}